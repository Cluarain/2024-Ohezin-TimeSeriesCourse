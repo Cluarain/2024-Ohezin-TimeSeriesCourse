{
  "cells": [
    {
      "cell_type": "markdown",
      "metadata": {
        "id": "bfrbKvRU6Nmf"
      },
      "source": [
        "# Анализ и прогнозирование временных рядов методами искусственного интеллекта\n",
        "\n",
        "## **Практическая работа 2. Поиск по образцу.**"
      ]
    },
    {
      "cell_type": "markdown",
      "metadata": {
        "id": "2952siVr43gU"
      },
      "source": [
        "Смените рабочую директорию с помощью команды `chdir()`. Для этого передайте этой команде свой путь до каталога, в котором содержатся материалы второй практической работы. После выполнения этой команды все последующие операции с файлами и каталогами будут производиться относительно указанного каталога."
      ]
    },
    {
      "cell_type": "code",
      "execution_count": 2,
      "metadata": {
        "id": "TQZ4rNEl6ICx"
      },
      "outputs": [],
      "source": [
        "import os\n",
        "practice_dir_path = os.getcwd()\n",
        "os.chdir(practice_dir_path)"
      ]
    },
    {
      "cell_type": "markdown",
      "metadata": {
        "id": "50ggs2mK46lM"
      },
      "source": [
        "Выполните команды, которые автоматически перезагружают все импортированные модули при их изменении."
      ]
    },
    {
      "cell_type": "code",
      "execution_count": 2,
      "metadata": {
        "id": "yiV3X0-STnFk"
      },
      "outputs": [],
      "source": [
        "%load_ext autoreload\n",
        "%autoreload 2"
      ]
    },
    {
      "cell_type": "markdown",
      "metadata": {
        "id": "SkBt8uY9_J9u"
      },
      "source": [
        "Импортируйте библиотеки и модули, необходимые для реализации практической работы 2."
      ]
    },
    {
      "cell_type": "code",
      "execution_count": 3,
      "metadata": {
        "id": "vNKNrQ6_UIq6"
      },
      "outputs": [
        {
          "name": "stdout",
          "output_type": "stream",
          "text": [
            "Defaulting to user installation because normal site-packages is not writeable\n",
            "Requirement already satisfied: mass-ts in c:\\users\\maxoh\\appdata\\roaming\\python\\python312\\site-packages (0.1.4)\n",
            "Requirement already satisfied: numpy in c:\\users\\maxoh\\appdata\\roaming\\python\\python312\\site-packages (from mass-ts) (2.0.2)\n",
            "Defaulting to user installation because normal site-packages is not writeable\n",
            "Requirement already satisfied: sktime in c:\\users\\maxoh\\appdata\\roaming\\python\\python312\\site-packages (0.32.3)\n",
            "Requirement already satisfied: joblib<1.5,>=1.2.0 in c:\\users\\maxoh\\appdata\\roaming\\python\\python312\\site-packages (from sktime) (1.4.2)\n",
            "Requirement already satisfied: numpy<2.1,>=1.21 in c:\\users\\maxoh\\appdata\\roaming\\python\\python312\\site-packages (from sktime) (2.0.2)\n",
            "Requirement already satisfied: packaging in c:\\users\\maxoh\\appdata\\roaming\\python\\python312\\site-packages (from sktime) (24.1)\n",
            "Requirement already satisfied: pandas<2.3.0,>=1.1 in c:\\users\\maxoh\\appdata\\roaming\\python\\python312\\site-packages (from sktime) (2.2.2)\n",
            "Requirement already satisfied: scikit-base<0.9.0,>=0.6.1 in c:\\users\\maxoh\\appdata\\roaming\\python\\python312\\site-packages (from sktime) (0.8.3)\n",
            "Requirement already satisfied: scikit-learn<1.6.0,>=0.24 in c:\\users\\maxoh\\appdata\\roaming\\python\\python312\\site-packages (from sktime) (1.5.1)\n",
            "Requirement already satisfied: scipy<2.0.0,>=1.2 in c:\\users\\maxoh\\appdata\\roaming\\python\\python312\\site-packages (from sktime) (1.14.1)\n",
            "Requirement already satisfied: python-dateutil>=2.8.2 in c:\\users\\maxoh\\appdata\\roaming\\python\\python312\\site-packages (from pandas<2.3.0,>=1.1->sktime) (2.9.0.post0)\n",
            "Requirement already satisfied: pytz>=2020.1 in c:\\users\\maxoh\\appdata\\roaming\\python\\python312\\site-packages (from pandas<2.3.0,>=1.1->sktime) (2024.1)\n",
            "Requirement already satisfied: tzdata>=2022.7 in c:\\users\\maxoh\\appdata\\roaming\\python\\python312\\site-packages (from pandas<2.3.0,>=1.1->sktime) (2024.1)\n",
            "Requirement already satisfied: threadpoolctl>=3.1.0 in c:\\users\\maxoh\\appdata\\roaming\\python\\python312\\site-packages (from scikit-learn<1.6.0,>=0.24->sktime) (3.5.0)\n",
            "Requirement already satisfied: six>=1.5 in c:\\users\\maxoh\\appdata\\roaming\\python\\python312\\site-packages (from python-dateutil>=2.8.2->pandas<2.3.0,>=1.1->sktime) (1.16.0)\n"
          ]
        }
      ],
      "source": [
        "!pip install mass-ts\n",
        "!pip install sktime"
      ]
    },
    {
      "cell_type": "code",
      "execution_count": 2,
      "metadata": {
        "id": "8jNrqLRB6H33"
      },
      "outputs": [
        {
          "name": "stderr",
          "output_type": "stream",
          "text": [
            "C:\\Users\\maxoh\\AppData\\Roaming\\Python\\Python312\\site-packages\\mass_ts\\_mass_ts.py:17: UserWarning: GPU support will not work. You must pip install mass-ts[gpu].\n",
            "  warnings.warn(\n"
          ]
        },
        {
          "data": {
            "text/html": [
              "        <script type=\"text/javascript\">\n",
              "        window.PlotlyConfig = {MathJaxConfig: 'local'};\n",
              "        if (window.MathJax && window.MathJax.Hub && window.MathJax.Hub.Config) {window.MathJax.Hub.Config({SVG: {font: \"STIX-Web\"}});}\n",
              "        if (typeof require !== 'undefined') {\n",
              "        require.undef(\"plotly\");\n",
              "        requirejs.config({\n",
              "            paths: {\n",
              "                'plotly': ['https://cdn.plot.ly/plotly-2.35.0.min']\n",
              "            }\n",
              "        });\n",
              "        require(['plotly'], function(Plotly) {\n",
              "            window._Plotly = Plotly;\n",
              "        });\n",
              "        }\n",
              "        </script>\n",
              "        "
            ]
          },
          "metadata": {},
          "output_type": "display_data"
        }
      ],
      "source": [
        "import numpy as np\n",
        "import pandas as pd\n",
        "import math\n",
        "import timeit\n",
        "import random\n",
        "import mass_ts as mts\n",
        "from IPython.display import display\n",
        "\n",
        "from modules.distance_profile import brute_force\n",
        "from modules.prediction import *\n",
        "from modules.bestmatch import *\n",
        "from modules.utils import *\n",
        "from modules.plots import *"
      ]
    },
    {
      "cell_type": "markdown",
      "metadata": {
        "id": "gZTpYia6TO6c"
      },
      "source": [
        "## **Часть 1.** Поиск по образцу на основе вычисленного профиля расстояния.\n",
        "\n",
        "**Задача поиска по образцу (subsequence matching)** заключается в нахождении $topK$ наиболее похожих подпоследовательностей временного ряда $T$ длины $n$ на заданный пользователем существенно более короткий временной ряд $Q$ длины $m$, называемый запросом, в смысле некоторой функции расстояния, $m \\ll n$. При этом среди найденных подпоследовательностей не должно быть тривиальных совпадений.\n",
        "\n",
        "Две подпоследовательности $T_{i,m}$ и $T_{j,m}$ временного ряда $T$ являются **тривиальными совпадениями (trivial matches)**, если они пересекаются:\n",
        "\\begin{equation}\n",
        "|i-j| \\leqslant m.\n",
        "\\end{equation}\n",
        "\n",
        "В общем случае условие пересечения записывается как $|i-j| \\leqslant \\xi m$, где задаваемый экспертом вещественный параметр $\\xi$ $(0 < \\xi \\leqslant 1)$ имеет типичные значения 0.25, 0.5 или 1.\n",
        "\n",
        "Одним из вариантов решения данной задачи является вычисление профиля расстояния. Под **профилем расстояния** $DistProfile\\in \\mathbb{R}^{n-m+1}$ понимается вектор, содержащий расстояния между подпоследовательностями временного ряда $T \\in \\mathbb{R}^n$ и запросом $Q \\in \\mathbb{R}^m$, вычисленные с помощью некоторой неотрицательной симметричной функции расстояния $dist(\\cdot,\\cdot)$:  \n",
        "\\begin{equation}\n",
        "DistProfile(i) = dist(Q, T_{i,m}), \\quad 1 \\leqslant i \\leqslant n-m+1.\n",
        "\\end{equation}\n",
        "\n",
        "На основе вычисленного профиля расстояния в качестве $topK$ похожих подпоследовательностей ряда берутся те, которые имеют наименьшие расстояния до запроса:\n",
        "\\begin{equation}\n",
        "C_{match} = \\{T_{i,m}^k\\}_{k=1}^{topK},\\; где \\; T_{i,m}^k \\in T, \\; i = argsort(DistProfile)(k), \\; 1 \\leqslant i \\leqslant n-m+1.\n",
        "\\end{equation}\n",
        "\n",
        "В части 1 практической работы 2 вы рассмотрите несколько алгоритмов вычисления профиля расстояния на примере алгоритмов грубой силы и MASS, а также примените результаты их выполнения для решения задачи поиска по образцу. В таблице ниже представлено их тезисное описание.\n",
        "\n",
        "| <h5> **Алгоритм** </h5> | <h5> **Описание** </h5> | <h5> **Вычислительная <br> сложность** </h5> |\n",
        "|--------------|------------------------------------------------------------------|:-----------------------------:|\n",
        "| <p>Brute Force</p>  | <ul><li>Наивный алгоритм</li><li>Z-нормализация запроса и подпоследовательностей ряда по стандартным формулам</li><li>Полное вычисление расстояний между запросом и подпоследовательностями ряда</li></ul> |            <p>$O(mn)$</p>            |\n",
        "| <p>MASS 1</p>       | <ul><li>Z-нормализация &#171;на лету&#187;</li><li>Применение свертки для вычисления скалярных произведений <br> между запросом и подпоследовательностями ряда</li><li>Выполнение свертки с помощью быстрого преобразования Фурье</li><li>Дополнение справа нулями запроса и временного ряда до удвоенной длины ряда</li><li>Реверс запроса</li></ul> |          <p>$O(n\\log{n})$</p>          |\n",
        "| <p>MASS 2</p>       | <ul><li>MASS 1 – это алгоритм, на котором основан MASS 2</li><li>Вычисление половины свертки</li><li>Дополнение нулями справа только запроса до длины временного ряда</li></ul> |          <p>$O(n\\log{n})$</p>          |\n",
        "| <font size=\"3\">MASS 3</font>       | <ul><li>MASS 2 – это алгоритм, на котором основан MASS 3</li><li>Посегментная обработка временного ряда</li><li>Длина каждого сегмента (кроме, возможно, последнего) – степень двойки</li><li>Сегменты перекрываются на $m-1$ элементов</li></ul> |             <p>$O(\\frac{n-k}{k-m}k\\log{k})$, <br> где $k$ – длина сегмента </p>           |"
      ]
    },
    {
      "cell_type": "markdown",
      "metadata": {
        "id": "eQUZH3Ix_LNU"
      },
      "source": [
        "### **Задача 1.**\n",
        "\n",
        "В данном задании вам предстоит определить, имеет ли пациент заболевание сердца по снятой записи ЭКГ или нет. Решать данную задачу будем с помощью алгоритмов поиска по образцу.\n",
        "\n",
        "Сначала выполните считывание временного ряда и образца поиска из файлов *ECG.csv* и *ECG_query.csv* соответственно из директории *./datasets/part1*. Временной ряд представляет собой показания ЭКГ пациента, образец поиска – фрагмент ЭКГ, обозначающий некоторое кардиологическое заболевание."
      ]
    },
    {
      "cell_type": "code",
      "execution_count": 5,
      "metadata": {
        "id": "CcvqgHFk_DIg"
      },
      "outputs": [
        {
          "name": "stderr",
          "output_type": "stream",
          "text": [
            "c:\\Users\\maxoh\\Documents\\2024-Ohezin-TimeSeriesCourse\\practice\\02 Similarity search\\modules\\utils.py:20: FutureWarning:\n",
            "\n",
            "The 'delim_whitespace' keyword in pd.read_csv is deprecated and will be removed in a future version. Use ``sep='\\s+'`` instead\n",
            "\n",
            "c:\\Users\\maxoh\\Documents\\2024-Ohezin-TimeSeriesCourse\\practice\\02 Similarity search\\modules\\utils.py:20: FutureWarning:\n",
            "\n",
            "The 'delim_whitespace' keyword in pd.read_csv is deprecated and will be removed in a future version. Use ``sep='\\s+'`` instead\n",
            "\n"
          ]
        }
      ],
      "source": [
        "ts_url = './datasets/part1/ECG.csv'\n",
        "query_url = './datasets/part1/ECG_query.csv'\n",
        "\n",
        "ts = read_ts(ts_url).reshape(-1)\n",
        "query = read_ts(query_url).reshape(-1)"
      ]
    },
    {
      "cell_type": "markdown",
      "metadata": {
        "id": "O79mW9qO61RM"
      },
      "source": [
        "Далее выполните визулизацию временного ряда и образца поиска с помощью функции `plot_bestmatch_data()` из модуля *plots.py*."
      ]
    },
    {
      "cell_type": "code",
      "execution_count": 6,
      "metadata": {
        "id": "7evaiNyB9Hmy"
      },
      "outputs": [],
      "source": [
        "plot_bestmatch_data(ts, query, \"Задача_1\")"
      ]
    },
    {
      "cell_type": "markdown",
      "metadata": {
        "id": "65_hyha27FGx"
      },
      "source": [
        "Реализуйте алгоритм грубой силы (brute force), заполнив одноименную функцию в модуле *distance_profile.py* недостающим кодом. Для этого воспользуйтесь псевдокодом алгоритма, который представлен ниже. После того как вычислен профиль расстояния, найдите $topK$ похожих подпоследовательностей на запрос с помощью функции `topK_match()` из *bestmatch.py*. Для исключения попадания тривиальных совпадений зададим $\\xi = 0.5$ Далее параметр $\\xi$ будем обозначать в коде как $excl\\_zone\\_frac$, а величину пересечения как $excl\\_zone$, $excl\\_zone = \\lceil excl\\_zone\\_frac \\cdot m \\rceil$,\n",
        "\n",
        "<center><img src=\"https://github.com/mzym/TimeSeriesCourse/blob/main/practice/02%20Similarity%20search/img/brute_force.png?raw=true\" width=\"400\"></center>"
      ]
    },
    {
      "cell_type": "code",
      "execution_count": 7,
      "metadata": {
        "id": "EM9XZRk-GJOa"
      },
      "outputs": [
        {
          "name": "stdout",
          "output_type": "stream",
          "text": [
            "Лучшие совпадения: {'indices': [np.int64(1215), np.int64(193)], 'distances': [np.float64(5.01641797172885), np.float64(18.030850173768776)]}\n"
          ]
        }
      ],
      "source": [
        "topK = 2\n",
        "excl_zone_frac = 0.5\n",
        "excl_zone = math.ceil(len(query) * excl_zone_frac)\n",
        "is_normalize = True\n",
        "\n",
        "# Рассчитываем профиль расстояний\n",
        "dist_profile = brute_force(ts, query, is_normalize)\n",
        "\n",
        "# Находим topK совпадений\n",
        "best_matches = topK_match(dist_profile, excl_zone, topK)\n",
        "\n",
        "# Вывод результатов\n",
        "print(\"Лучшие совпадения:\", best_matches)"
      ]
    },
    {
      "cell_type": "markdown",
      "metadata": {
        "id": "ezNz67tO7m-l"
      },
      "source": [
        "Напишите функцию `plot_bestmatch_results()` в модуле *plots.py* для визуализации найденных $topK$ похожих подпоследовательностей временного ряда на образец поиска. За основу возьмите функцию `plot_bestmatch_data()` и добавьте отображение найденных подпоследовательностей, выделив их тем же цветом, что и образец поиска."
      ]
    },
    {
      "cell_type": "code",
      "execution_count": 8,
      "metadata": {
        "id": "ot-q7Zh6UPI1"
      },
      "outputs": [
        {
          "data": {
            "image/png": "[encoded data removed]",
            "text/plain": [
              "<Figure size 1500x700 with 1 Axes>"
            ]
          },
          "metadata": {},
          "output_type": "display_data"
        }
      ],
      "source": [
        "plot_bestmatch_results(ts, query, best_matches)"
      ]
    },
    {
      "cell_type": "markdown",
      "metadata": {
        "id": "EHx4lBRbT-1f"
      },
      "source": [
        "![equation.png](data:image/png;base64,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)\n",
        "Определите по полученным результатам, имеет ли человек сердечное заболевание или нет."
      ]
    },
    {
      "cell_type": "markdown",
      "metadata": {
        "id": "HDbec5rOUAzq"
      },
      "source": [
        "Нехватает данных:\n",
        "1. Нет временных интревалов измерений (по умолчанию раз в 0.04 сек). Соответственно мы не можем посчитать сердечный ритм.\n",
        "2. Мы имеем только одно отведение, при этом не указано какое (I, II, III, AVR, AVF, AVL V1-V6), из-за этого мы не можем установить локализацию.\n",
        "\n",
        "Предположительные диагнозы:\n",
        "1. Инфаркт\n",
        "2. Болезнь Вольфа-Паркинсона-Уайта\n",
        "3. Гипертрофия миокарда\n",
        "\n",
        "P.S. Второй зеленый сектор практически невозможен, чтобы такое отобразилось на ЭКГ - нужно ударить человека дефибриллятором (или молнией).\n",
        "\n",
        "Технически, по полученным результатам: **человек имеет \"сердечное заболевание\".**"
      ]
    },
    {
      "cell_type": "markdown",
      "metadata": {
        "id": "X5XwzbI867MC"
      },
      "source": [
        "### **Задача 2.**\n",
        "\n",
        "Проделайте такие же шаги для поиска по образцу, как и в задаче 1, но теперь вычислите профиль расстояния с помощью одной из выбранных вами версий алгоритма MASS. Для этого используйте стороннюю библиотеку *mass-ts*. Со списком всех функций, которые предоставляет данная библиотека, и их описанием вы можете ознакомиться в [репозитории библиотеки GitHub](https://github.com/matrix-profile-foundation/mass-ts).\n",
        "\n",
        "Обратите внимание, что MASS 2 и MASS 3 возвращают профиль расстояния в виде вектора комплексных чисел. Для дальнейшей работы с профилем расстояния используйте только вещественные части комплексных чисел.     "
      ]
    },
    {
      "cell_type": "code",
      "execution_count": 9,
      "metadata": {
        "id": "8e5o2DqbVWkK"
      },
      "outputs": [
        {
          "name": "stdout",
          "output_type": "stream",
          "text": [
            "Лучшие совпадения mass: {'indices': [np.int64(1214), np.int64(192)], 'distances': [np.float64(5.0164179717288615), np.float64(18.03085017376877)]}\n"
          ]
        },
        {
          "data": {
            "image/png": "[encoded data removed]",
            "text/plain": [
              "<Figure size 1500x700 with 1 Axes>"
            ]
          },
          "metadata": {},
          "output_type": "display_data"
        }
      ],
      "source": [
        "# Рассчитываем профиль расстояний\n",
        "dist_profile_mass = mts.mass(ts, query, is_normalize)\n",
        "\n",
        "# Находим topK совпадений\n",
        "best_matches_mass = topK_match(dist_profile_mass, excl_zone, topK)\n",
        "\n",
        "# Вывод результатов\n",
        "print(\"Лучшие совпадения mass:\", best_matches_mass)\n",
        "\n",
        "plot_bestmatch_results(ts, query, best_matches_mass)"
      ]
    },
    {
      "cell_type": "markdown",
      "metadata": {
        "id": "5i7Uhch8VZZz"
      },
      "source": [
        "### **Задача 3.**\n",
        "\n",
        "Проведите две серии экспериментов по сравнению быстродействия алгоритмов грубой силы и трех версий MASS:\n",
        "1. на фиксированной длине запроса $m$ при изменяемой длине временного ряда $n$;\n",
        "2. на фиксированной длине временного ряда $n$ при изменяемой длине запроса $m$.\n",
        "\n",
        "Все необходимые для проведения экспериментов функции находятся в модуле *experiments.py*.\n",
        "\n",
        "Сначала сгенерируйте по аналогии временные ряды и запросы поиска различных длин, как это было сделано в практической работе 1. Далее измерьте время выполнения алгоритмов при заданных входных параметрах и данных с помощью функции `run_experiment()`. Полученные результаты (время выполнения) каждого эксперимента отобразите на линейном графике, воспользовавшись функцией `visualize_plot_times()`.\n",
        "\n",
        "Также вычислите ускорение с помощью функции `calculate_speedup()`, показывающее, во сколько раз алгоритм MASS превосходит по времени выполнения алгоритма грубой силы, по следующей формуле:\n",
        "\\begin{equation}\n",
        "speedup = \\frac{t_{BF}}{t_{MASS}},\n",
        "\\end{equation}\n",
        "где $t_{BF}$ и $t_{MASS}$ — время работы алгоритма грубой силы и MASS соответственно.\n",
        "\n",
        "Полученные ускорения оформите в виде таблицы, для построения используйте функцию `visualize_table_speedup()`."
      ]
    },
    {
      "cell_type": "markdown",
      "metadata": {
        "id": "GOWbuMLAVj4W"
      },
      "source": [
        "Эксперимент 1"
      ]
    },
    {
      "cell_type": "code",
      "execution_count": 10,
      "metadata": {
        "id": "rlBjMrt-wcBG"
      },
      "outputs": [],
      "source": [
        "from modules.experiments import *\n",
        "\n",
        "algorithms = ['brute_force', 'mass', 'mass2', 'mass3']\n",
        "algorithms_params = {\n",
        "    'brute_force': None,\n",
        "    'mass': None,\n",
        "    'mass2': None,\n",
        "    'mass3': {'segment_len': 2048},\n",
        "}\n",
        "\n",
        "n_list = [2**15, 2**16, 2**17, 2**18, 2**19, 2**20] # lengths of time series\n",
        "m = 128 # length of query\n",
        "\n",
        "exp1_params = {\n",
        "    'varying': {'n': n_list},\n",
        "    'fixed': {'m': m}\n",
        "}\n",
        "\n",
        "\n",
        "task = 'distance_profile'\n",
        "\n",
        "# Генерация данных для экспериментов\n",
        "def generate_time_series_and_queries(n_list, m_list):\n",
        "    ts_data = {}\n",
        "    query_data = {}\n",
        "\n",
        "    for n in n_list:\n",
        "        ts_data[str(n)] = np.random.rand(n)\n",
        "\n",
        "    for m in m_list:\n",
        "        query_data[str(m)] = np.random.rand(m)\n",
        "\n",
        "    return ts_data, query_data\n",
        "\n",
        "# Генерация временных рядов и запросов\n",
        "exp1_ts, exp1_query = generate_time_series_and_queries(n_list, [m])  # Для первой серии фиксируем запрос длины 128\n",
        "\n",
        "exp1_data = {\n",
        "    'ts': exp1_ts,\n",
        "    'query': exp1_query\n",
        "}\n",
        "\n",
        "# Запуск экспериментов для первой серии\n",
        "exp1_times = {}\n",
        "for alg in algorithms:\n",
        "    exp1_times[alg] = run_experiment(alg, task, exp1_data, exp1_params, algorithms_params[alg])"
      ]
    },
    {
      "cell_type": "code",
      "execution_count": 11,
      "metadata": {},
      "outputs": [],
      "source": [
        "# Визуализация для первой серии экспериментов\n",
        "comparison_param = np.array(algorithms)\n",
        "visualize_plot_times(np.array([exp1_times[alg] for alg in algorithms]), comparison_param, exp1_params, \"Задача_3_Эксперимент_1\")"
      ]
    },
    {
      "cell_type": "code",
      "execution_count": 12,
      "metadata": {
        "id": "KAkX6noTV6X9"
      },
      "outputs": [
        {
          "data": {
            "text/html": [
              "<style type=\"text/css\">\n",
              "#T_97299 th {\n",
              "  border: 1px black solid !important;\n",
              "  text-align: center;\n",
              "}\n",
              "#T_97299 caption {\n",
              "  font-size: 16px;\n",
              "  font-weight: bold;\n",
              "  padding: 10px 0px 10px 0px;\n",
              "}\n",
              "#T_97299_row0_col0, #T_97299_row0_col1, #T_97299_row0_col2, #T_97299_row1_col0, #T_97299_row1_col1, #T_97299_row1_col2, #T_97299_row2_col0, #T_97299_row2_col1, #T_97299_row2_col2, #T_97299_row3_col0, #T_97299_row3_col1, #T_97299_row3_col2, #T_97299_row4_col0, #T_97299_row4_col1, #T_97299_row4_col2, #T_97299_row5_col0, #T_97299_row5_col1, #T_97299_row5_col2 {\n",
              "  color: green;\n",
              "  border: 1px black solid !important;\n",
              "  text-align: center;\n",
              "}\n",
              "</style>\n",
              "<table id=\"T_97299\">\n",
              "  <caption>Speedup MASS relative to the brute force <br> (variable time series length, fixed query length)</caption>\n",
              "  <thead>\n",
              "    <tr>\n",
              "      <th class=\"blank level0\" >&nbsp;</th>\n",
              "      <th id=\"T_97299_level0_col0\" class=\"col_heading level0 col0\" >mass</th>\n",
              "      <th id=\"T_97299_level0_col1\" class=\"col_heading level0 col1\" >mass2</th>\n",
              "      <th id=\"T_97299_level0_col2\" class=\"col_heading level0 col2\" >mass3</th>\n",
              "    </tr>\n",
              "  </thead>\n",
              "  <tbody>\n",
              "    <tr>\n",
              "      <th id=\"T_97299_level0_row0\" class=\"row_heading level0 row0\" >n = 32768</th>\n",
              "      <td id=\"T_97299_row0_col0\" class=\"data row0 col0\" >155.261620</td>\n",
              "      <td id=\"T_97299_row0_col1\" class=\"data row0 col1\" >68.270167</td>\n",
              "      <td id=\"T_97299_row0_col2\" class=\"data row0 col2\" >68.238964</td>\n",
              "    </tr>\n",
              "    <tr>\n",
              "      <th id=\"T_97299_level0_row1\" class=\"row_heading level0 row1\" >n = 65536</th>\n",
              "      <td id=\"T_97299_row1_col0\" class=\"data row1 col0\" >149.254618</td>\n",
              "      <td id=\"T_97299_row1_col1\" class=\"data row1 col1\" >65.266869</td>\n",
              "      <td id=\"T_97299_row1_col2\" class=\"data row1 col2\" >67.709618</td>\n",
              "    </tr>\n",
              "    <tr>\n",
              "      <th id=\"T_97299_level0_row2\" class=\"row_heading level0 row2\" >n = 131072</th>\n",
              "      <td id=\"T_97299_row2_col0\" class=\"data row2 col0\" >159.492460</td>\n",
              "      <td id=\"T_97299_row2_col1\" class=\"data row2 col1\" >71.168642</td>\n",
              "      <td id=\"T_97299_row2_col2\" class=\"data row2 col2\" >65.825455</td>\n",
              "    </tr>\n",
              "    <tr>\n",
              "      <th id=\"T_97299_level0_row3\" class=\"row_heading level0 row3\" >n = 262144</th>\n",
              "      <td id=\"T_97299_row3_col0\" class=\"data row3 col0\" >147.760515</td>\n",
              "      <td id=\"T_97299_row3_col1\" class=\"data row3 col1\" >66.866614</td>\n",
              "      <td id=\"T_97299_row3_col2\" class=\"data row3 col2\" >50.953752</td>\n",
              "    </tr>\n",
              "    <tr>\n",
              "      <th id=\"T_97299_level0_row4\" class=\"row_heading level0 row4\" >n = 524288</th>\n",
              "      <td id=\"T_97299_row4_col0\" class=\"data row4 col0\" >126.351213</td>\n",
              "      <td id=\"T_97299_row4_col1\" class=\"data row4 col1\" >60.501013</td>\n",
              "      <td id=\"T_97299_row4_col2\" class=\"data row4 col2\" >36.088278</td>\n",
              "    </tr>\n",
              "    <tr>\n",
              "      <th id=\"T_97299_level0_row5\" class=\"row_heading level0 row5\" >n = 1048576</th>\n",
              "      <td id=\"T_97299_row5_col0\" class=\"data row5 col0\" >117.301022</td>\n",
              "      <td id=\"T_97299_row5_col1\" class=\"data row5 col1\" >56.993392</td>\n",
              "      <td id=\"T_97299_row5_col2\" class=\"data row5 col2\" >23.595141</td>\n",
              "    </tr>\n",
              "  </tbody>\n",
              "</table>\n"
            ],
            "text/plain": [
              "<pandas.io.formats.style.Styler at 0x1b9b7ee1b50>"
            ]
          },
          "metadata": {},
          "output_type": "display_data"
        }
      ],
      "source": [
        "# visualize table with speedup\n",
        "tab_index = algorithms[1:]\n",
        "tab_columns = [f\"n = {n}\" for n in n_list]\n",
        "tab_title = \"Speedup MASS relative to the brute force <br> (variable time series length, fixed query length)\"\n",
        "\n",
        "# Рассчитываем ускорение для первой серии экспериментов\n",
        "exp1_speedup = np.array([calculate_speedup(exp1_times['brute_force'], exp1_times[alg]) for alg in tab_index])\n",
        "\n",
        "# Визуализация ускорения в виде таблицы\n",
        "visualize_table_speedup(exp1_speedup.T, tab_columns, tab_index, tab_title)"
      ]
    },
    {
      "cell_type": "markdown",
      "metadata": {
        "id": "H5XPO_viV-Fm"
      },
      "source": [
        "Эксперимент 2"
      ]
    },
    {
      "cell_type": "code",
      "execution_count": 13,
      "metadata": {
        "id": "hZZ5Jk7AWAQF"
      },
      "outputs": [],
      "source": [
        "m_list = [2**5, 2**6, 2**7, 2**8, 2**9, 2**10] # lengths of queries\n",
        "n = 2**15 # length of time series\n",
        "\n",
        "exp2_params = {\n",
        "    'varying': {'m': m_list},\n",
        "    'fixed': {'n': n}\n",
        "}\n",
        "\n",
        "# Генерация временных рядов и запросов\n",
        "exp2_ts, exp2_query = generate_time_series_and_queries([n], m_list)  # Для первой серии фиксируем запрос длины 128\n",
        "\n",
        "exp2_data = {\n",
        "    'ts': exp2_ts,\n",
        "    'query': exp2_query\n",
        "}\n",
        "\n",
        "# Запуск экспериментов для первой серии\n",
        "exp2_times = {}\n",
        "for alg in algorithms:\n",
        "    exp2_times[alg] = run_experiment(alg, task, exp2_data, exp2_params, algorithms_params[alg])"
      ]
    },
    {
      "cell_type": "code",
      "execution_count": 14,
      "metadata": {
        "id": "sLB5n_szowlT"
      },
      "outputs": [],
      "source": [
        "# Визуализация для второй серии экспериментов\n",
        "comparison_param = np.array(algorithms)\n",
        "visualize_plot_times(np.array([exp2_times[alg] for alg in algorithms]), comparison_param, exp2_params, \"Задача_3_Эксперимент_2\")"
      ]
    },
    {
      "cell_type": "code",
      "execution_count": 15,
      "metadata": {
        "id": "P0cMYc5jWKYH"
      },
      "outputs": [
        {
          "data": {
            "text/html": [
              "<style type=\"text/css\">\n",
              "#T_d5610 th {\n",
              "  border: 1px black solid !important;\n",
              "  text-align: center;\n",
              "}\n",
              "#T_d5610 caption {\n",
              "  font-size: 16px;\n",
              "  font-weight: bold;\n",
              "  padding: 10px 0px 10px 0px;\n",
              "}\n",
              "#T_d5610_row0_col0, #T_d5610_row0_col1, #T_d5610_row0_col2, #T_d5610_row1_col0, #T_d5610_row1_col1, #T_d5610_row1_col2, #T_d5610_row2_col0, #T_d5610_row2_col1, #T_d5610_row2_col2, #T_d5610_row3_col0, #T_d5610_row3_col1, #T_d5610_row3_col2, #T_d5610_row4_col0, #T_d5610_row4_col1, #T_d5610_row4_col2, #T_d5610_row5_col0, #T_d5610_row5_col1, #T_d5610_row5_col2 {\n",
              "  color: green;\n",
              "  border: 1px black solid !important;\n",
              "  text-align: center;\n",
              "}\n",
              "</style>\n",
              "<table id=\"T_d5610\">\n",
              "  <caption>Speedup MASS relative to the brute force <br> (variable query length, fixed time series length)</caption>\n",
              "  <thead>\n",
              "    <tr>\n",
              "      <th class=\"blank level0\" >&nbsp;</th>\n",
              "      <th id=\"T_d5610_level0_col0\" class=\"col_heading level0 col0\" >mass</th>\n",
              "      <th id=\"T_d5610_level0_col1\" class=\"col_heading level0 col1\" >mass2</th>\n",
              "      <th id=\"T_d5610_level0_col2\" class=\"col_heading level0 col2\" >mass3</th>\n",
              "    </tr>\n",
              "  </thead>\n",
              "  <tbody>\n",
              "    <tr>\n",
              "      <th id=\"T_d5610_level0_row0\" class=\"row_heading level0 row0\" >m = 32</th>\n",
              "      <td id=\"T_d5610_row0_col0\" class=\"data row0 col0\" >144.303231</td>\n",
              "      <td id=\"T_d5610_row0_col1\" class=\"data row0 col1\" >156.213384</td>\n",
              "      <td id=\"T_d5610_row0_col2\" class=\"data row0 col2\" >149.708318</td>\n",
              "    </tr>\n",
              "    <tr>\n",
              "      <th id=\"T_d5610_level0_row1\" class=\"row_heading level0 row1\" >m = 64</th>\n",
              "      <td id=\"T_d5610_row1_col0\" class=\"data row1 col0\" >133.664075</td>\n",
              "      <td id=\"T_d5610_row1_col1\" class=\"data row1 col1\" >98.883188</td>\n",
              "      <td id=\"T_d5610_row1_col2\" class=\"data row1 col2\" >99.711099</td>\n",
              "    </tr>\n",
              "    <tr>\n",
              "      <th id=\"T_d5610_level0_row2\" class=\"row_heading level0 row2\" >m = 128</th>\n",
              "      <td id=\"T_d5610_row2_col0\" class=\"data row2 col0\" >140.295643</td>\n",
              "      <td id=\"T_d5610_row2_col1\" class=\"data row2 col1\" >61.095191</td>\n",
              "      <td id=\"T_d5610_row2_col2\" class=\"data row2 col2\" >60.685517</td>\n",
              "    </tr>\n",
              "    <tr>\n",
              "      <th id=\"T_d5610_level0_row3\" class=\"row_heading level0 row3\" >m = 256</th>\n",
              "      <td id=\"T_d5610_row3_col0\" class=\"data row3 col0\" >136.439664</td>\n",
              "      <td id=\"T_d5610_row3_col1\" class=\"data row3 col1\" >35.218153</td>\n",
              "      <td id=\"T_d5610_row3_col2\" class=\"data row3 col2\" >35.193228</td>\n",
              "    </tr>\n",
              "    <tr>\n",
              "      <th id=\"T_d5610_level0_row4\" class=\"row_heading level0 row4\" >m = 512</th>\n",
              "      <td id=\"T_d5610_row4_col0\" class=\"data row4 col0\" >145.223680</td>\n",
              "      <td id=\"T_d5610_row4_col1\" class=\"data row4 col1\" >18.690383</td>\n",
              "      <td id=\"T_d5610_row4_col2\" class=\"data row4 col2\" >18.612391</td>\n",
              "    </tr>\n",
              "    <tr>\n",
              "      <th id=\"T_d5610_level0_row5\" class=\"row_heading level0 row5\" >m = 1024</th>\n",
              "      <td id=\"T_d5610_row5_col0\" class=\"data row5 col0\" >145.634646</td>\n",
              "      <td id=\"T_d5610_row5_col1\" class=\"data row5 col1\" >9.685895</td>\n",
              "      <td id=\"T_d5610_row5_col2\" class=\"data row5 col2\" >9.547751</td>\n",
              "    </tr>\n",
              "  </tbody>\n",
              "</table>\n"
            ],
            "text/plain": [
              "<pandas.io.formats.style.Styler at 0x1b9b7ee2420>"
            ]
          },
          "metadata": {},
          "output_type": "display_data"
        }
      ],
      "source": [
        "tab_index = algorithms[1:]\n",
        "tab_columns = [f\"m = {m}\" for m in m_list]\n",
        "tab_title = \"Speedup MASS relative to the brute force <br> (variable query length, fixed time series length)\"\n",
        "\n",
        "# Рассчитываем ускорение для второй серии экспериментов\n",
        "exp2_speedup = np.array([calculate_speedup(exp2_times['brute_force'], exp2_times[alg]) for alg in tab_index])\n",
        "\n",
        "visualize_table_speedup(exp2_speedup.T, tab_columns, tab_index, tab_title)"
      ]
    },
    {
      "cell_type": "markdown",
      "metadata": {
        "id": "cDPCTjJ7F86f"
      },
      "source": [
        "![equation.png](data:image/png;base64,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)\n",
        "Проанализируйте и изложите содержательный смысл полученных\n",
        "результатов."
      ]
    },
    {
      "cell_type": "markdown",
      "metadata": {
        "id": "48LIjyHcF9G-"
      },
      "source": [
        "### Анализ результатов экспериментов\n",
        "\n",
        "#### Эксперимент 1: Переменная длина временного ряда, фиксированная длина запроса\n",
        "\n",
        "**Анализ:**\n",
        "\n",
        "1. **Ускорение с увеличением длины временного ряда**:\n",
        "   - Все версии MASS (mass, mass2, mass3) демонстрируют значительное ускорение по сравнению с алгоритмом грубой силы.\n",
        "   - Ускорение уменьшается с увеличением длины временного ряда (n), но остается значительным.\n",
        "   - MASS3 показывает наибольшее ускорение при меньших значениях n, но его ускорение уменьшается быстрее с увеличением n по сравнению с MASS и MASS2.\n",
        "\n",
        "2. **Сравнение версий MASS**:\n",
        "   - MASS показывает наибольшее ускорение во всех случаях.\n",
        "   - MASS2 и MASS3 показывают схожие результаты, но MASS2 немного превосходит MASS3 при больших значениях n.\n",
        "\n",
        "#### Эксперимент 2: Фиксированная длина временного ряда, переменная длина запроса\n",
        "\n",
        "**Анализ:**\n",
        "\n",
        "1. **Ускорение с увеличением длины запроса**:\n",
        "   - Все версии MASS показывают значительное ускорение по сравнению с алгоритмом грубой силы, но ускорение уменьшается с увеличением длины запроса (m).\n",
        "   - MASS3 показывает наибольшее ускорение при меньших значениях m, но его ускорение уменьшается быстрее с увеличением m по сравнению с MASS и MASS2.\n",
        "\n",
        "2. **Сравнение версий MASS**:\n",
        "   - MASS показывает наибольшее ускорение во всех случаях.\n",
        "   - MASS2 и MASS3 показывают схожие результаты, но MASS2 немного превосходит MASS3 при больших значениях m.\n",
        "\n",
        "### Содержательный смысл результатов\n",
        "\n",
        "1. **Эффективность MASS**:\n",
        "   - Все версии MASS значительно превосходят алгоритм грубой силы по времени выполнения.\n",
        "   - MASS показывает наилучшие результаты во всех случаях, что указывает на его оптимальность.\n",
        "\n",
        "2. **Зависимость от длины временного ряда и запроса**:\n",
        "   - Ускорение уменьшается с увеличением как длины временного ряда, так и длины запроса. Это ожидаемо, так как алгоритм грубой силы имеет квадратичную сложность, а MASS — линейно-логарифмическую.\n",
        "   - MASS3 показывает наибольшее ускорение при меньших значениях n и m, но его ускорение уменьшается быстрее с увеличением этих параметров.\n",
        "\n",
        "3. **Выводы**:\n",
        "   - MASS является наиболее эффективным алгоритмом для поиска подобия во временных рядах.\n",
        "   - MASS2 и MASS3 также эффективны, но MASS2 показывает более стабильные результаты при больших значениях n и m.\n",
        "   - Алгоритм грубой силы не подходит для работы с большими временными рядами и запросами из-за высокой вычислительной сложности."
      ]
    },
    {
      "cell_type": "markdown",
      "metadata": {
        "id": "rLjwtj6q5h1S"
      },
      "source": [
        "## **Часть 2.** Ускорение вычисления DTW меры техникой ограничения полосы Сако—Чиба. Наивный алгоритм поиска по образцу на основе DTW меры."
      ]
    },
    {
      "cell_type": "markdown",
      "metadata": {
        "id": "7wX-rtvznzmW"
      },
      "source": [
        "### **Задача 4.**\n",
        "\n",
        "Поскольку DTW мера имеет квадратичную вычислительную сложность от\n",
        "длины временного ряда $O(n^2)$, то в данном задании вам предстоит реализовать технику ограничения полосы Сако–Чиба. Данная техника не позволяет отклоняться пути трансформации более чем на $r$ ячеек от диагонали матрицы трансформации и тем самым сокращает вычисление меры до $O(rn)$.\n",
        "\n",
        "Добавьте в функцию `DTW_distance()` из модуля *metrics.py* возможность ограничения полосы Сако—Чиба. Сравните результаты выполнения вашей реализации с результатами функции [`dtw_distance()`](https://www.sktime.net/en/stable/api_reference/auto_generated/sktime.distances.dtw_distance.html) из библиотеки *sktime*, задав различные значения параметра $r$ (например, от 0 до 1 с шагом 0.05).\n",
        "\n",
        "**Мера DTW с ограничением полосы Сако–Чиба** вычисляется следующим образом:\n",
        "\\begin{equation}\n",
        "\\text{DTW}(T_1, T_2) = d(n,n),\n",
        "\\\\ d(i,j) = (t_{1,i} - t_{2,j})^2 + \\min \\left\\{\n",
        "\t\\begin{array}{l l}\n",
        "\td(i-1,j), \\\\\n",
        "\td(i,j-1), \\\\\n",
        "\td(i-1,j-1),\n",
        "\t\\end{array}\n",
        "\t\\right.\n",
        "\\\\ d(0,0)=0, \\quad d(i,0)=d(0,j)=\\infty, \\quad  1 \\leqslant i,j \\leqslant n;\n",
        "\\\\ 0 \\leqslant r \\leqslant n-1, \\quad j-r \\leqslant i \\leqslant j+r,\n",
        "\\\\ d(i,j) = \\infty, \\quad j+r < i < j-r.\n",
        "\\end{equation}"
      ]
    },
    {
      "cell_type": "code",
      "execution_count": 16,
      "metadata": {
        "id": "GSC1DxbeREZl"
      },
      "outputs": [],
      "source": [
        "def test_distances(dist1: float, dist2: float) -> None:\n",
        "    \"\"\"\n",
        "    Check whether your distance function is implemented correctly\n",
        "\n",
        "    Parameters\n",
        "    ----------\n",
        "    dist1 : distance between two time series calculated by sktime\n",
        "    dist2 : distance between two time series calculated by your function\n",
        "    \"\"\"\n",
        "\n",
        "    np.testing.assert_equal(round(dist1, 5), round(dist2, 5), 'Distances are not equal')"
      ]
    },
    {
      "cell_type": "code",
      "execution_count": 17,
      "metadata": {
        "id": "J5Fg6TYpRGfm"
      },
      "outputs": [
        {
          "name": "stdout",
          "output_type": "stream",
          "text": [
            "Test failed for r = 0.00: \n",
            "Items are not equal: Distances are not equal\n",
            " ACTUAL: 900.0\n",
            " DESIRED: np.float64(848.0)\n",
            "Test failed for r = 0.05: \n",
            "Items are not equal: Distances are not equal\n",
            " ACTUAL: 900.0\n",
            " DESIRED: np.float64(848.0)\n",
            "Test failed for r = 0.10: \n",
            "Items are not equal: Distances are not equal\n",
            " ACTUAL: 900.0\n",
            " DESIRED: np.float64(848.0)\n",
            "Test passed for r = 0.15\n",
            "Test passed for r = 0.20\n",
            "Test passed for r = 0.25\n",
            "Test passed for r = 0.30\n",
            "Test passed for r = 0.35\n",
            "Test passed for r = 0.40\n",
            "Test passed for r = 0.45\n",
            "Test passed for r = 0.50\n",
            "Test passed for r = 0.55\n",
            "Test passed for r = 0.60\n",
            "Test passed for r = 0.65\n",
            "Test passed for r = 0.70\n",
            "Test passed for r = 0.75\n",
            "Test passed for r = 0.80\n",
            "Test passed for r = 0.85\n",
            "Test passed for r = 0.90\n",
            "Test passed for r = 0.95\n",
            "All tests completed!\n"
          ]
        }
      ],
      "source": [
        "import numpy as np\n",
        "from sktime.distances import dtw_distance as sktime_dtw_distance\n",
        "from modules.metrics import DTW_distance\n",
        "\n",
        "# Example time series\n",
        "ts1 = np.arange(1, 10, 1)\n",
        "ts2 = np.arange(11, 20, 1)\n",
        "\n",
        "r_values = np.arange(0, 1, 0.05)\n",
        "\n",
        "for r in r_values:\n",
        "    sktime_dist = sktime_dtw_distance(ts1, ts2, window=r)\n",
        "    our_dist = DTW_distance(ts1, ts2, r=r)\n",
        "        \n",
        "    try:\n",
        "        test_distances(sktime_dist, our_dist)\n",
        "        print(f\"Test passed for r = {r:.2f}\")\n",
        "    except AssertionError as e:\n",
        "        pass\n",
        "        print(f\"Test failed for r = {r:.2f}: {e}\")\n",
        "\n",
        "print(\"All tests completed!\")"
      ]
    },
    {
      "cell_type": "markdown",
      "metadata": {
        "id": "79O3m81VRM9i"
      },
      "source": [
        "### **Задача 5.**\n",
        "\n",
        "Реализуйте самостоятельно наивный алгоритм поиска $topK$ подпоследовательностей временного ряда, похожих на образец поиска в смысле меры DTW. Для этого уже подготовлен шаблон класса `NaiveBestMatchFinder` в модуле *bestmatch.py*. Напишите метод `perform()`, выполняющий обнаружение подпоследовательностей ряда, похожих на образец поиска. Метод должен избегать попадания в результирующее множество пересекающихся подпоследовательностей. Для этого используйте функцию `topK_match()`. При реализации опирайтесь на псевдокод наивного алгоритма поиска, который представлен ниже.\n",
        "\n",
        "<center><img src=\"https://github.com/mzym/TimeSeriesCourse/blob/main/practice/02%20Similarity%20search/img/naive_algorithm.png?raw=true\" width=\"550\"></center>\n",
        "\n",
        "Для этой задачи используйте временной ряд и запрос ЭКГ из части 1. Если они не загружены, то выполните их считывание из соответствующих файлов."
      ]
    },
    {
      "cell_type": "code",
      "execution_count": 18,
      "metadata": {
        "id": "qh6dWGjnRfzs"
      },
      "outputs": [
        {
          "name": "stderr",
          "output_type": "stream",
          "text": [
            "c:\\Users\\maxoh\\Documents\\2024-Ohezin-TimeSeriesCourse\\practice\\02 Similarity search\\modules\\utils.py:20: FutureWarning:\n",
            "\n",
            "The 'delim_whitespace' keyword in pd.read_csv is deprecated and will be removed in a future version. Use ``sep='\\s+'`` instead\n",
            "\n",
            "c:\\Users\\maxoh\\Documents\\2024-Ohezin-TimeSeriesCourse\\practice\\02 Similarity search\\modules\\utils.py:20: FutureWarning:\n",
            "\n",
            "The 'delim_whitespace' keyword in pd.read_csv is deprecated and will be removed in a future version. Use ``sep='\\s+'`` instead\n",
            "\n"
          ]
        }
      ],
      "source": [
        "topK = 2\n",
        "r = 0.01\n",
        "excl_zone_frac = 0.5\n",
        "is_normalize = True\n",
        "\n",
        "naive_bestmatch_results = {}\n",
        "\n",
        "ts_url = './datasets/part1/ECG.csv'\n",
        "query_url = './datasets/part1/ECG_query.csv'\n",
        "\n",
        "ts = read_ts(ts_url).reshape(-1)\n",
        "query = read_ts(query_url).reshape(-1)\n",
        "\n",
        "# Initialize NaiveBestMatchFinder\n",
        "naive_finder = NaiveBestMatchFinder(excl_zone_frac=excl_zone_frac, topK=topK, is_normalize=is_normalize, r=r)\n",
        "\n",
        "# Perform the search\n",
        "naive_bestmatch_results = naive_finder.perform(ts, query)"
      ]
    },
    {
      "cell_type": "markdown",
      "metadata": {
        "id": "36tTUoi2RyG3"
      },
      "source": [
        "Чтобы было легче интерпретировать результаты поиска, выполните визуализацию с помощью `plot_bestmatch_results()` из модуля *plots.py*."
      ]
    },
    {
      "cell_type": "code",
      "execution_count": 19,
      "metadata": {
        "id": "8A687WTMR2lU"
      },
      "outputs": [
        {
          "data": {
            "image/png": "[encoded data removed]",
            "text/plain": [
              "<Figure size 1500x700 with 1 Axes>"
            ]
          },
          "metadata": {},
          "output_type": "display_data"
        }
      ],
      "source": [
        "plot_bestmatch_results(ts, query, naive_bestmatch_results)"
      ]
    },
    {
      "cell_type": "markdown",
      "metadata": {
        "id": "afNxi72mR2rY"
      },
      "source": [
        "### **Задача 6**.\n",
        "\n",
        "Проведите две серии экспериментов, в которых необходимо исследовать следующее:\n",
        "1. влияние длины запроса $m$ и ширины полосы Сако—Чиба $r$ на время выполнения наивного алгоритма при фиксированной длине ряда $n$;\n",
        "2. влияние длины ряда $n$ и ширины полосы Сако—Чиба $r$ на время выполнения наивного алгоритма при фиксированной длине запроса $m$.\n",
        "\n",
        "Для провдения экспериментов используйте функции из модуля *experiments.py*.\n",
        "Эксперименты проведите на синтетических временных рядах и запросах указанных длин. Полученные результаты каждого эксперимента отобразите на линейном графике."
      ]
    },
    {
      "cell_type": "markdown",
      "metadata": {
        "id": "bj4h7lmFSYLr"
      },
      "source": [
        "Эксперимент 1"
      ]
    },
    {
      "cell_type": "code",
      "execution_count": 20,
      "metadata": {
        "id": "844hE-u5zXmF"
      },
      "outputs": [],
      "source": [
        "algorithm = 'naive'\n",
        "algorithm_params = {\n",
        "    'topK': 3,\n",
        "    'excl_zone_frac': 1,\n",
        "    'is_normalize': True,\n",
        "}\n",
        "\n",
        "n_list = [2**10, 2**11, 2**12, 2**13, 2**14, 2**15] # lengths of time series\n",
        "r_list = np.round(np.arange(0, 0.6, 0.1), 2).tolist() # sizes of warping window\n",
        "m = 2**6 # length of query\n",
        "\n",
        "exp1_params = {\n",
        "    'varying': {'n': n_list,\n",
        "                'r': r_list},\n",
        "    'fixed': {'m': m}\n",
        "}\n",
        "exp1_data = {\n",
        "    'ts': dict.fromkeys(map(str, n_list), []),\n",
        "    'query': {str(m): []}\n",
        "}\n",
        "\n",
        "task = 'best_match'\n",
        "\n",
        "# Генерация синтетических данных\n",
        "for n in n_list:\n",
        "    exp1_data['ts'][str(n)] = np.random.rand(n)\n",
        "exp1_data['query'][str(m)] = np.random.rand(m)\n",
        "\n",
        "# Запуск эксперимента\n",
        "times_exp1 = run_experiment(algorithm, task, exp1_data, exp1_params, algorithm_params)"
      ]
    },
    {
      "cell_type": "code",
      "execution_count": 21,
      "metadata": {
        "id": "NdTfg0g0pWvT"
      },
      "outputs": [],
      "source": [
        "comparison_param = np.array(r_list)\n",
        "visualize_plot_times(times_exp1, r_list, exp1_params, \"Задача_6_Эксперимент_1\")"
      ]
    },
    {
      "cell_type": "markdown",
      "metadata": {
        "id": "fndpoOBMR3OB"
      },
      "source": [
        "Эксперимент 2"
      ]
    },
    {
      "cell_type": "code",
      "execution_count": 26,
      "metadata": {
        "id": "C9Uh9kYER2x0"
      },
      "outputs": [],
      "source": [
        "m_list = [2**4, 2**5, 2**6, 2**7, 2**8] # lengths of query\n",
        "r_list = np.round(np.arange(0, 0.6, 0.1), 2).tolist() # sizes of warping window\n",
        "n = 2**12 # length of time series\n",
        "\n",
        "exp2_params = {\n",
        "    'varying': {'m': m_list,\n",
        "                'r': r_list},\n",
        "    'fixed': {'n': n}\n",
        "}\n",
        "exp2_data = {\n",
        "    'ts': {str(n): []},\n",
        "    'query': dict.fromkeys(map(str, m_list), []),\n",
        "}\n",
        "\n",
        "for m in m_list:\n",
        "    exp2_data['query'][str(m)] = np.random.rand(m)\n",
        "exp2_data['ts'][str(n)] = np.random.rand(n)\n",
        "\n",
        "\n",
        "times_exp2 = run_experiment(algorithm, task, exp2_data, exp2_params, algorithm_params)"
      ]
    },
    {
      "cell_type": "code",
      "execution_count": 27,
      "metadata": {
        "id": "M1JGjIJOpu9E"
      },
      "outputs": [],
      "source": [
        "comparison_param = np.array(r_list)\n",
        "visualize_plot_times(times_exp2, comparison_param, exp2_params, \"Задача_6_Эксперимент_2\")"
      ]
    },
    {
      "cell_type": "markdown",
      "metadata": {
        "id": "qPGthdr0R3cq"
      },
      "source": [
        "![equation.png](data:image/png;base64,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)\n",
        "Проанализируйте и изложите содержательный смысл полученных\n",
        "результатов."
      ]
    },
    {
      "cell_type": "markdown",
      "metadata": {
        "id": "w1UWIAOhLLYE"
      },
      "source": [
        "### Эксперимент 1\n",
        "\n",
        "#### Результаты:\n",
        "- **Время выполнения**: Зависит от длины запроса $m$ и ширины полосы Сако—Чиба $r$.\n",
        "- **График**: Показывает, как время выполнения алгоритма изменяется с увеличением длины запроса $m$ и ширины полосы $r$.\n",
        "\n",
        "- **Длина запроса $m$**: Чем длиннее запрос, тем больше времени требуется для выполнения алгоритма, так как увеличивается количество операций сравнения.\n",
        "- **Ширина полосы Сако—Чиба $r$**: Увеличение ширины полосы позволяет более гибко сопоставлять временные ряды, но при этом увеличивает время выполнения из-за необходимости рассматривать больше вариантов сопоставления.\n",
        "\n",
        "### Эксперимент 2\n",
        "\n",
        "#### Результаты:\n",
        "- **Время выполнения**: Зависит от длины ряда $n$ и ширины полосы Сако—Чиба $r$.\n",
        "- **График**: Показывает, как время выполнения алгоритма изменяется с увеличением длины ряда $n$ и ширины полосы $r$.\n",
        "\n",
        "- **Длина ряда $n$**: Чем длиннее ряд, тем больше времени требуется для выполнения алгоритма, так как увеличивается количество точек, которые нужно сравнивать с запросом.\n",
        "- **Ширина полосы Сако—Чиба $r$**: Аналогично эксперименту 1, увеличение ширины полосы увеличивает время выполнения из-за необходимости рассматривать больше вариантов сопоставления.\n",
        "\n",
        "### Общие выводы:\n",
        "\n",
        "1. **Влияние длины запроса $m$ и длины ряда $n$**:\n",
        "   - Увеличение длины запроса $m$ и длины ряда $n$ линейно увеличивает время выполнения алгоритма. Это связано с тем, что алгоритм должен выполнять больше операций сравнения.\n",
        "\n",
        "2. **Влияние ширины полосы Сако—Чиба $r$**:\n",
        "   - Увеличение ширины полосы $r$ позволяет более гибко сопоставлять временные ряды, но при этом увеличивает время выполнения. Это связано с тем, что алгоритм должен рассматривать больше вариантов сопоставления, что приводит к увеличению количества операций.\n",
        "\n",
        "3. **Оптимизация**:\n",
        "   - Для оптимизации времени выполнения алгоритма необходимо найти баланс между длиной запроса $m$, длиной ряда $n$ и шириной полосы $r$. Слишком большие значения этих параметров приведут к значительному увеличению времени выполнения, что может быть неприемлемо для больших наборов данных.\n"
      ]
    },
    {
      "cell_type": "markdown",
      "metadata": {
        "id": "qLknW-6QbxZN"
      },
      "source": [
        "## **Часть 3.** Алгоритм UCR-DTW.\n",
        "\n",
        "Третья часть практической работы посвящена алгоритму UCR-DTW, который использует нижние границы схожести $\\text{LB}_{\\text{Kim}}\\text{FL}$, $\\text{LB}_{\\text{Keogh}}\\text{EQ}$ и $\\text{LB}_{\\text{Keogh}}\\text{EC}$, применяющиеся каскадным образом. Псевдокод алгоритма UCR-DTW представлен ниже.\n",
        "\n",
        "<center><img src=\"https://github.com/mzym/TimeSeriesCourse/blob/main/practice/02%20Similarity%20search/img/ucr_dtw.png?raw=true\" width=\"650\"></center>\n",
        "\n",
        "**Нижняя граница схожести (lower bound, LB)** представляет собой функцию, вычислительная сложность которой меньше вычислительной сложности меры DTW. Нижняя граница используется для отбрасывания кандидатов (подпоследовательностей временного ряда), заведомо не похожих на запрос, без вычисления меры DTW.\n",
        "\n",
        "Нижние границы между кандидатом\n",
        "$C$ и запросом $Q$ длины $n$, применяемые в UCR-DTW, вычисляются следующим образом:\n",
        "<ul>\n",
        "<li><b>Нижняя граница $\\text{LB}_{\\text{Kim}}\\text{FL}$</b> определяется как сумма квадратов разностей между первыми и последними точками запроса $Q$ и\n",
        "подпоследовательности $C$:\n",
        "\\begin{equation}\n",
        "    \\text{LB}_{\\text{Kim}}\\text{FL}(Q, C) = (q_1 - c_1)^2 + (q_n - c_n)^2.\n",
        "\\end{equation}\n",
        "</li>\n",
        "\n",
        "<li><b>Нижняя граница $\\text{LB}_{\\text{Keogh}}\\text{EQ}$</b> показывает расстояние между верхней или нижней оболочкой $U$ и $L$, построенными вокруг запроса $Q$, и кандидатом $C$:\n",
        "\\begin{equation}\n",
        "    \\text{LB}_{\\text{Keogh}}\\text{EQ}(Q,C) = \\sum_{i=1}^n{\\left\\{\n",
        "            \\begin{array}{cl}\n",
        "            (c_i - u_i)^2, & \\text{if} \\; c_i > u_i \\\\\n",
        "            (c_i - l_i)^2, & \\text{if} \\; c_i < l_i\\\\\n",
        "            0, & \\text{otherwise}.\n",
        "            \\end{array}\n",
        "            \\right.}\n",
        "\\end{equation}\n",
        "\n",
        "Нижней и верхней оболочкой (lower and upper envelope) запроса $Q$ называют соответственно последовательности $L = (l_1,..., l_n)$ и $U = (u_1,..., u_n)$, вычисляемые как минимумы и максимумы запроса в скользящем окне заданной длины $r$ ($1 < r < m$):\n",
        "\\begin{equation}\n",
        "    u_i = \\max_{\\max(1,i-r) \\leqslant k \\leqslant \\min(m, i+r)} q_{k}, \\\\\n",
        "    l_i = \\min_{\\max(1,i-r) \\leqslant k \\leqslant \\min(m, i+r)} q_{k},\n",
        "\\end{equation}\n",
        "где $r$ – ширина полосы Сако–Чиба.\n",
        "</li>\n",
        "\n",
        "<li><b>Нижняя граница $\\text{LB}_{\\text{Keogh}}\\text{EC}$</b> представляет собой расстояние между запросом $Q$ и оболочкой кандидата $C$, т.е. является реверс-версией нижней границы $\\text{LB}_{\\text{Keogh}}\\text{EQ}$:\n",
        "\\begin{equation}\n",
        "    \\text{LB}_{\\text{Keogh}}\\text{EC}(Q,C) = \\text{LB}_{\\text{Keogh}}\\text{EQ}(C, Q).\n",
        "\\end{equation}\n",
        "</li>\n",
        "</ul>"
      ]
    },
    {
      "cell_type": "markdown",
      "metadata": {
        "id": "YyOAHK2sGuHS"
      },
      "source": [
        "### **Задача 7.**\n",
        "  \n",
        "Реализуйте технику каскадного применения нижних границ и сами нижние границы,  заполнив пропуски в классе `UCR_DTW`, в модуле *bestmatch.py*.\n",
        "Выполните алгоритм UCR-DTW на данных ЭКГ из предыдущих частей, задав такие же значения входных параметров, что и для наивного алгоритма из части 2, и визуализируйте результаты. Убедитесь, что результаты UCR-DTW совпадают с результатами наивного алгоритма."
      ]
    },
    {
      "cell_type": "code",
      "execution_count": 24,
      "metadata": {
        "id": "xifzxtl1G1Kb"
      },
      "outputs": [
        {
          "name": "stderr",
          "output_type": "stream",
          "text": [
            "c:\\Users\\maxoh\\Documents\\2024-Ohezin-TimeSeriesCourse\\practice\\02 Similarity search\\modules\\utils.py:20: FutureWarning:\n",
            "\n",
            "The 'delim_whitespace' keyword in pd.read_csv is deprecated and will be removed in a future version. Use ``sep='\\s+'`` instead\n",
            "\n",
            "c:\\Users\\maxoh\\Documents\\2024-Ohezin-TimeSeriesCourse\\practice\\02 Similarity search\\modules\\utils.py:20: FutureWarning:\n",
            "\n",
            "The 'delim_whitespace' keyword in pd.read_csv is deprecated and will be removed in a future version. Use ``sep='\\s+'`` instead\n",
            "\n"
          ]
        },
        {
          "name": "stdout",
          "output_type": "stream",
          "text": [
            "UCR-DTW Results:\n",
            "Best Match 1: Index = 1215, Distance = 1158150.6131147104\n",
            "Best Match 2: Index = 1214, Distance = 1158218.2191707203\n",
            "\n",
            "Statistics:\n",
            "not_pruned_num: 182\n",
            "lb_Kim_num: 2159\n",
            "lb_KeoghCQ_num: 2159\n",
            "lb_KeoghQC_num: 2159\n"
          ]
        }
      ],
      "source": [
        "top_k = 2\n",
        "r = 0.01\n",
        "excl_zone_frac = 1\n",
        "is_normalize = True\n",
        "\n",
        "ucr_dtw_results = {}\n",
        "\n",
        "\n",
        "ts_url = './datasets/part1/ECG.csv'\n",
        "query_url = './datasets/part1/ECG_query.csv'\n",
        "\n",
        "ts = read_ts(ts_url).reshape(-1)\n",
        "query = read_ts(query_url).reshape(-1)\n",
        "\n",
        "# Initialize UCR_DTW object\n",
        "ucr_dtw = UCR_DTW(excl_zone_frac=excl_zone_frac, topK=top_k, is_normalize=is_normalize, r=r)\n",
        "\n",
        "# Perform UCR-DTW on ECG data\n",
        "ucr_dtw_results = ucr_dtw.perform(ts, query)\n",
        "\n",
        "# Print results\n",
        "print(\"UCR-DTW Results:\")\n",
        "for i, idx in enumerate(ucr_dtw_results['index'][:top_k]):\n",
        "    print(f\"Best Match {i+1}: Index = {idx}, Distance = {ucr_dtw_results['distance'][i]}\")\n",
        "\n",
        "# Print statistics\n",
        "statistics = ucr_dtw.get_statistics()\n",
        "print(\"\\nStatistics:\")\n",
        "for key, value in statistics.items():\n",
        "    print(f\"{key}: {value}\")"
      ]
    },
    {
      "cell_type": "markdown",
      "metadata": {
        "id": "1j8hUNGqG7_K"
      },
      "source": [
        "Визуализируйте количество неотброшенных и отброшенных каждой нижней границей подпоследовательностей временного ряда в виде круговой диаграммы с помощью функции `pie_chart()` из модуля *plots.py*."
      ]
    },
    {
      "cell_type": "code",
      "execution_count": 25,
      "metadata": {
        "id": "CvDoTKakHO1n"
      },
      "outputs": [],
      "source": [
        "# Prepare data for pie chart\n",
        "labels = ['Not Pruned', 'LB_Kim Pruned', 'LB_KeoghQC Pruned', 'LB_KeoghCQ Pruned']\n",
        "values = [\n",
        "    statistics['not_pruned_num'],\n",
        "    statistics['lb_Kim_num'] - statistics['not_pruned_num'],\n",
        "    statistics['lb_KeoghQC_num'] - statistics['not_pruned_num'],\n",
        "    statistics['lb_KeoghCQ_num'] - statistics['not_pruned_num']\n",
        "]\n",
        "\n",
        "# Plot pie chart\n",
        "pie_chart(labels, values, plot_title='UCR-DTW Pruning Statistics', filename='Задача_7')"
      ]
    },
    {
      "cell_type": "markdown",
      "metadata": {
        "id": "yMBrrQIGIG41"
      },
      "source": [
        "### **Задача 8.**\n",
        "\n",
        "Проведите эксперименты, аналогичные тем, которые выполнялись для исследования эффективности наивного алгоритма в задаче 6. Постройте графики и вычислите ускорение алгоритма UCR-DTW относительно наивного алгоритма. Для справедливого сравнения алгоритмов используйте сгенерированные временные ряды и запросы из задачи 6."
      ]
    },
    {
      "cell_type": "markdown",
      "metadata": {
        "id": "AHVSwkGOJ_Wn"
      },
      "source": [
        "Эксперимент 1"
      ]
    },
    {
      "cell_type": "code",
      "execution_count": 23,
      "metadata": {
        "id": "-jFvyr3m0SXO"
      },
      "outputs": [],
      "source": [
        "from modules.experiments import *\n",
        "\n",
        "algorithm = 'ucr-dtw'\n",
        "algorithm_params = {\n",
        "    'topK': 3,\n",
        "    'excl_zone_frac': 1,\n",
        "    'is_normalize': True,\n",
        "}\n",
        "\n",
        "n_list = [2**10, 2**11, 2**12, 2**13, 2**14, 2**15] # lengths of time series\n",
        "r_list = np.round(np.arange(0, 0.6, 0.1), 2).tolist() # sizes of warping window\n",
        "m = 2**6 # length of query\n",
        "\n",
        "exp1_params = {\n",
        "    'varying': {'n': n_list,\n",
        "                'r': r_list},\n",
        "    'fixed': {'m': m}\n",
        "}\n",
        "exp1_data = {\n",
        "    'ts': dict.fromkeys(map(str, n_list), []),\n",
        "    'query': {str(m): []}\n",
        "}\n",
        "\n",
        "task = 'best_match'\n",
        "\n",
        "# Генерация синтетических данных\n",
        "for n in n_list:\n",
        "    exp1_data['ts'][str(n)] = np.random.rand(n)\n",
        "exp1_data['query'][str(m)] = np.random.rand(m)\n",
        "\n",
        "# Запуск эксперимента\n",
        "times_exp1_ucr_dtw = run_experiment(algorithm, task, exp1_data, exp1_params, algorithm_params)\n",
        "\n",
        "\n",
        "# Параметры для наивного алгоритма\n",
        "naive_algorithm = 'naive'\n",
        "naive_algorithm_params = {\n",
        "    'topK': 3,\n",
        "    'excl_zone_frac': 1,\n",
        "    'is_normalize': True,\n",
        "}\n",
        "# Запуск эксперимента с наивным алгоритмом\n",
        "times_exp1_naive = run_experiment(naive_algorithm, task, exp1_data, exp1_params, naive_algorithm_params)\n"
      ]
    },
    {
      "cell_type": "code",
      "execution_count": 31,
      "metadata": {
        "id": "9g_YLPtqpkIN"
      },
      "outputs": [],
      "source": [
        "comparison_param = np.array(r_list)\n",
        "visualize_plot_times(times_exp1_ucr_dtw, r_list, exp1_params, \"Задача_8_Эксперимент_1_ucr_dtw\")\n",
        "visualize_plot_times(times_exp1_naive, r_list, exp1_params, \"Задача_8_Эксперимент_1_naive\")"
      ]
    },
    {
      "cell_type": "code",
      "execution_count": 38,
      "metadata": {
        "id": "eceQ2DqFJMCQ"
      },
      "outputs": [
        {
          "data": {
            "text/html": [
              "<style type=\"text/css\">\n",
              "#T_a416b th {\n",
              "  border: 1px black solid !important;\n",
              "  text-align: center;\n",
              "}\n",
              "#T_a416b caption {\n",
              "  font-size: 16px;\n",
              "  font-weight: bold;\n",
              "  padding: 10px 0px 10px 0px;\n",
              "}\n",
              "#T_a416b_row0_col0, #T_a416b_row0_col1, #T_a416b_row0_col2, #T_a416b_row0_col3, #T_a416b_row0_col4, #T_a416b_row0_col5, #T_a416b_row1_col0, #T_a416b_row1_col1, #T_a416b_row1_col2, #T_a416b_row1_col3, #T_a416b_row1_col4, #T_a416b_row1_col5, #T_a416b_row2_col0, #T_a416b_row2_col1, #T_a416b_row2_col2, #T_a416b_row2_col3, #T_a416b_row2_col4, #T_a416b_row2_col5, #T_a416b_row3_col0, #T_a416b_row3_col1, #T_a416b_row3_col2, #T_a416b_row3_col3, #T_a416b_row3_col4, #T_a416b_row3_col5, #T_a416b_row4_col0, #T_a416b_row4_col1, #T_a416b_row4_col2, #T_a416b_row4_col3, #T_a416b_row4_col4, #T_a416b_row4_col5, #T_a416b_row5_col0, #T_a416b_row5_col1, #T_a416b_row5_col2, #T_a416b_row5_col3, #T_a416b_row5_col4, #T_a416b_row5_col5 {\n",
              "  color: green;\n",
              "  border: 1px black solid !important;\n",
              "  text-align: center;\n",
              "}\n",
              "</style>\n",
              "<table id=\"T_a416b\">\n",
              "  <caption>Speedup UCR-DTW relative to the naive algorithm <br> (variable time series length and warping path size, fixed query length)</caption>\n",
              "  <thead>\n",
              "    <tr>\n",
              "      <th class=\"blank level0\" >&nbsp;</th>\n",
              "      <th id=\"T_a416b_level0_col0\" class=\"col_heading level0 col0\" >r = 0.0</th>\n",
              "      <th id=\"T_a416b_level0_col1\" class=\"col_heading level0 col1\" >r = 0.1</th>\n",
              "      <th id=\"T_a416b_level0_col2\" class=\"col_heading level0 col2\" >r = 0.2</th>\n",
              "      <th id=\"T_a416b_level0_col3\" class=\"col_heading level0 col3\" >r = 0.3</th>\n",
              "      <th id=\"T_a416b_level0_col4\" class=\"col_heading level0 col4\" >r = 0.4</th>\n",
              "      <th id=\"T_a416b_level0_col5\" class=\"col_heading level0 col5\" >r = 0.5</th>\n",
              "    </tr>\n",
              "  </thead>\n",
              "  <tbody>\n",
              "    <tr>\n",
              "      <th id=\"T_a416b_level0_row0\" class=\"row_heading level0 row0\" >n = 1024</th>\n",
              "      <td id=\"T_a416b_row0_col0\" class=\"data row0 col0\" >1.845061</td>\n",
              "      <td id=\"T_a416b_row0_col1\" class=\"data row0 col1\" >1.686475</td>\n",
              "      <td id=\"T_a416b_row0_col2\" class=\"data row0 col2\" >1.748104</td>\n",
              "      <td id=\"T_a416b_row0_col3\" class=\"data row0 col3\" >1.740732</td>\n",
              "      <td id=\"T_a416b_row0_col4\" class=\"data row0 col4\" >1.698642</td>\n",
              "      <td id=\"T_a416b_row0_col5\" class=\"data row0 col5\" >1.820511</td>\n",
              "    </tr>\n",
              "    <tr>\n",
              "      <th id=\"T_a416b_level0_row1\" class=\"row_heading level0 row1\" >n = 2048</th>\n",
              "      <td id=\"T_a416b_row1_col0\" class=\"data row1 col0\" >2.058797</td>\n",
              "      <td id=\"T_a416b_row1_col1\" class=\"data row1 col1\" >2.202677</td>\n",
              "      <td id=\"T_a416b_row1_col2\" class=\"data row1 col2\" >2.175062</td>\n",
              "      <td id=\"T_a416b_row1_col3\" class=\"data row1 col3\" >2.170757</td>\n",
              "      <td id=\"T_a416b_row1_col4\" class=\"data row1 col4\" >2.158607</td>\n",
              "      <td id=\"T_a416b_row1_col5\" class=\"data row1 col5\" >1.984792</td>\n",
              "    </tr>\n",
              "    <tr>\n",
              "      <th id=\"T_a416b_level0_row2\" class=\"row_heading level0 row2\" >n = 4096</th>\n",
              "      <td id=\"T_a416b_row2_col0\" class=\"data row2 col0\" >1.317583</td>\n",
              "      <td id=\"T_a416b_row2_col1\" class=\"data row2 col1\" >1.484830</td>\n",
              "      <td id=\"T_a416b_row2_col2\" class=\"data row2 col2\" >1.553657</td>\n",
              "      <td id=\"T_a416b_row2_col3\" class=\"data row2 col3\" >1.545094</td>\n",
              "      <td id=\"T_a416b_row2_col4\" class=\"data row2 col4\" >1.526922</td>\n",
              "      <td id=\"T_a416b_row2_col5\" class=\"data row2 col5\" >1.603862</td>\n",
              "    </tr>\n",
              "    <tr>\n",
              "      <th id=\"T_a416b_level0_row3\" class=\"row_heading level0 row3\" >n = 8192</th>\n",
              "      <td id=\"T_a416b_row3_col0\" class=\"data row3 col0\" >1.265039</td>\n",
              "      <td id=\"T_a416b_row3_col1\" class=\"data row3 col1\" >1.279002</td>\n",
              "      <td id=\"T_a416b_row3_col2\" class=\"data row3 col2\" >1.309524</td>\n",
              "      <td id=\"T_a416b_row3_col3\" class=\"data row3 col3\" >1.320306</td>\n",
              "      <td id=\"T_a416b_row3_col4\" class=\"data row3 col4\" >1.320160</td>\n",
              "      <td id=\"T_a416b_row3_col5\" class=\"data row3 col5\" >1.355501</td>\n",
              "    </tr>\n",
              "    <tr>\n",
              "      <th id=\"T_a416b_level0_row4\" class=\"row_heading level0 row4\" >n = 16384</th>\n",
              "      <td id=\"T_a416b_row4_col0\" class=\"data row4 col0\" >1.322640</td>\n",
              "      <td id=\"T_a416b_row4_col1\" class=\"data row4 col1\" >1.251913</td>\n",
              "      <td id=\"T_a416b_row4_col2\" class=\"data row4 col2\" >1.342138</td>\n",
              "      <td id=\"T_a416b_row4_col3\" class=\"data row4 col3\" >1.370663</td>\n",
              "      <td id=\"T_a416b_row4_col4\" class=\"data row4 col4\" >1.302934</td>\n",
              "      <td id=\"T_a416b_row4_col5\" class=\"data row4 col5\" >1.329958</td>\n",
              "    </tr>\n",
              "    <tr>\n",
              "      <th id=\"T_a416b_level0_row5\" class=\"row_heading level0 row5\" >n = 32768</th>\n",
              "      <td id=\"T_a416b_row5_col0\" class=\"data row5 col0\" >1.195107</td>\n",
              "      <td id=\"T_a416b_row5_col1\" class=\"data row5 col1\" >1.224917</td>\n",
              "      <td id=\"T_a416b_row5_col2\" class=\"data row5 col2\" >1.226422</td>\n",
              "      <td id=\"T_a416b_row5_col3\" class=\"data row5 col3\" >1.241208</td>\n",
              "      <td id=\"T_a416b_row5_col4\" class=\"data row5 col4\" >1.309174</td>\n",
              "      <td id=\"T_a416b_row5_col5\" class=\"data row5 col5\" >1.267552</td>\n",
              "    </tr>\n",
              "  </tbody>\n",
              "</table>\n"
            ],
            "text/plain": [
              "<pandas.io.formats.style.Styler at 0x2a730f64dd0>"
            ]
          },
          "metadata": {},
          "output_type": "display_data"
        }
      ],
      "source": [
        "# visualize table with speedup\n",
        "tab_index = [f\"n = {n}\" for n in n_list]\n",
        "tab_columns = [f\"r = {r}\" for r in r_list]\n",
        "tab_title = \"Speedup UCR-DTW relative to the naive algorithm <br> (variable time series length and warping path size, fixed query length)\"\n",
        "\n",
        "\n",
        "speedup_exp1 = times_exp1_ucr_dtw / times_exp1_naive\n",
        "visualize_table_speedup(speedup_exp1, tab_index, tab_columns, tab_title)"
      ]
    },
    {
      "cell_type": "markdown",
      "metadata": {
        "id": "-ahl7EPgJ7U9"
      },
      "source": [
        "Эксперимент 2"
      ]
    },
    {
      "cell_type": "code",
      "execution_count": 32,
      "metadata": {
        "id": "uwYSqQEa0d1C"
      },
      "outputs": [],
      "source": [
        "m_list = [2**4, 2**5, 2**6, 2**7, 2**8] # lengths of query\n",
        "r_list = np.round(np.arange(0, 0.6, 0.1), 2).tolist() # sizes of warping window\n",
        "n = 2**12 # length of time series\n",
        "\n",
        "exp2_params = {\n",
        "    'varying': {'m': m_list,\n",
        "                'r': r_list},\n",
        "    'fixed': {'n': n}\n",
        "}\n",
        "exp2_data = {\n",
        "    'ts': {str(n): []},\n",
        "    'query': dict.fromkeys(map(str, m_list), []),\n",
        "}\n",
        "\n",
        "task = 'best_match'\n",
        "\n",
        "# Генерация синтетических данных\n",
        "for m in m_list:\n",
        "    exp2_data['query'][str(m)] = np.random.rand(m)\n",
        "exp2_data['ts'][str(n)] = np.random.rand(n)\n",
        "\n",
        "\n",
        "# Запуск эксперимента\n",
        "times_exp2_ucr_dtw = run_experiment(algorithm, task, exp2_data, exp2_params, algorithm_params)\n",
        "\n",
        "\n",
        "# Параметры для наивного алгоритма\n",
        "naive_algorithm = 'naive'\n",
        "naive_algorithm_params = {\n",
        "    'topK': 3,\n",
        "    'excl_zone_frac': 1,\n",
        "    'is_normalize': True,\n",
        "}\n",
        "# Запуск эксперимента с наивным алгоритмом\n",
        "times_exp2_naive = run_experiment(naive_algorithm, task, exp2_data, exp2_params, naive_algorithm_params)"
      ]
    },
    {
      "cell_type": "code",
      "execution_count": 33,
      "metadata": {
        "id": "TDbP4WWlplAi"
      },
      "outputs": [],
      "source": [
        "comparison_param = np.array(r_list)\n",
        "visualize_plot_times(times_exp2_ucr_dtw, r_list, exp2_params, \"Задача_8_Эксперимент_2_ucr_dtw\")\n",
        "visualize_plot_times(times_exp2_naive, r_list, exp2_params, \"Задача_8_Эксперимент_2_naive\")"
      ]
    },
    {
      "cell_type": "code",
      "execution_count": 39,
      "metadata": {
        "id": "OaUXmsV8IxAB"
      },
      "outputs": [
        {
          "data": {
            "text/html": [
              "<style type=\"text/css\">\n",
              "#T_c6125 th {\n",
              "  border: 1px black solid !important;\n",
              "  text-align: center;\n",
              "}\n",
              "#T_c6125 caption {\n",
              "  font-size: 16px;\n",
              "  font-weight: bold;\n",
              "  padding: 10px 0px 10px 0px;\n",
              "}\n",
              "#T_c6125_row0_col0, #T_c6125_row0_col2, #T_c6125_row0_col3, #T_c6125_row0_col4, #T_c6125_row0_col5 {\n",
              "  color: red;\n",
              "  border: 1px black solid !important;\n",
              "  text-align: center;\n",
              "}\n",
              "#T_c6125_row0_col1, #T_c6125_row1_col0, #T_c6125_row1_col1, #T_c6125_row1_col2, #T_c6125_row1_col3, #T_c6125_row1_col4, #T_c6125_row1_col5, #T_c6125_row2_col0, #T_c6125_row2_col1, #T_c6125_row2_col2, #T_c6125_row2_col3, #T_c6125_row2_col4, #T_c6125_row2_col5, #T_c6125_row3_col0, #T_c6125_row3_col1, #T_c6125_row3_col2, #T_c6125_row3_col3, #T_c6125_row3_col4, #T_c6125_row3_col5, #T_c6125_row4_col0, #T_c6125_row4_col1, #T_c6125_row4_col2, #T_c6125_row4_col3, #T_c6125_row4_col4, #T_c6125_row4_col5 {\n",
              "  color: green;\n",
              "  border: 1px black solid !important;\n",
              "  text-align: center;\n",
              "}\n",
              "</style>\n",
              "<table id=\"T_c6125\">\n",
              "  <caption>Speedup UCR-DTW relative to the naive algorithm <br> (variable query length and warping path size, fixed time series length)</caption>\n",
              "  <thead>\n",
              "    <tr>\n",
              "      <th class=\"blank level0\" >&nbsp;</th>\n",
              "      <th id=\"T_c6125_level0_col0\" class=\"col_heading level0 col0\" >r = 0.0</th>\n",
              "      <th id=\"T_c6125_level0_col1\" class=\"col_heading level0 col1\" >r = 0.1</th>\n",
              "      <th id=\"T_c6125_level0_col2\" class=\"col_heading level0 col2\" >r = 0.2</th>\n",
              "      <th id=\"T_c6125_level0_col3\" class=\"col_heading level0 col3\" >r = 0.3</th>\n",
              "      <th id=\"T_c6125_level0_col4\" class=\"col_heading level0 col4\" >r = 0.4</th>\n",
              "      <th id=\"T_c6125_level0_col5\" class=\"col_heading level0 col5\" >r = 0.5</th>\n",
              "    </tr>\n",
              "  </thead>\n",
              "  <tbody>\n",
              "    <tr>\n",
              "      <th id=\"T_c6125_level0_row0\" class=\"row_heading level0 row0\" >m = 16</th>\n",
              "      <td id=\"T_c6125_row0_col0\" class=\"data row0 col0\" >0.881401</td>\n",
              "      <td id=\"T_c6125_row0_col1\" class=\"data row0 col1\" >1.352009</td>\n",
              "      <td id=\"T_c6125_row0_col2\" class=\"data row0 col2\" >0.963128</td>\n",
              "      <td id=\"T_c6125_row0_col3\" class=\"data row0 col3\" >0.767024</td>\n",
              "      <td id=\"T_c6125_row0_col4\" class=\"data row0 col4\" >0.792365</td>\n",
              "      <td id=\"T_c6125_row0_col5\" class=\"data row0 col5\" >0.737121</td>\n",
              "    </tr>\n",
              "    <tr>\n",
              "      <th id=\"T_c6125_level0_row1\" class=\"row_heading level0 row1\" >m = 32</th>\n",
              "      <td id=\"T_c6125_row1_col0\" class=\"data row1 col0\" >1.789237</td>\n",
              "      <td id=\"T_c6125_row1_col1\" class=\"data row1 col1\" >2.317900</td>\n",
              "      <td id=\"T_c6125_row1_col2\" class=\"data row1 col2\" >1.705328</td>\n",
              "      <td id=\"T_c6125_row1_col3\" class=\"data row1 col3\" >1.377868</td>\n",
              "      <td id=\"T_c6125_row1_col4\" class=\"data row1 col4\" >1.394506</td>\n",
              "      <td id=\"T_c6125_row1_col5\" class=\"data row1 col5\" >1.239781</td>\n",
              "    </tr>\n",
              "    <tr>\n",
              "      <th id=\"T_c6125_level0_row2\" class=\"row_heading level0 row2\" >m = 64</th>\n",
              "      <td id=\"T_c6125_row2_col0\" class=\"data row2 col0\" >1.917304</td>\n",
              "      <td id=\"T_c6125_row2_col1\" class=\"data row2 col1\" >2.044794</td>\n",
              "      <td id=\"T_c6125_row2_col2\" class=\"data row2 col2\" >1.570347</td>\n",
              "      <td id=\"T_c6125_row2_col3\" class=\"data row2 col3\" >1.389678</td>\n",
              "      <td id=\"T_c6125_row2_col4\" class=\"data row2 col4\" >1.370960</td>\n",
              "      <td id=\"T_c6125_row2_col5\" class=\"data row2 col5\" >1.286855</td>\n",
              "    </tr>\n",
              "    <tr>\n",
              "      <th id=\"T_c6125_level0_row3\" class=\"row_heading level0 row3\" >m = 128</th>\n",
              "      <td id=\"T_c6125_row3_col0\" class=\"data row3 col0\" >1.897058</td>\n",
              "      <td id=\"T_c6125_row3_col1\" class=\"data row3 col1\" >1.529958</td>\n",
              "      <td id=\"T_c6125_row3_col2\" class=\"data row3 col2\" >1.267278</td>\n",
              "      <td id=\"T_c6125_row3_col3\" class=\"data row3 col3\" >1.187316</td>\n",
              "      <td id=\"T_c6125_row3_col4\" class=\"data row3 col4\" >1.158146</td>\n",
              "      <td id=\"T_c6125_row3_col5\" class=\"data row3 col5\" >1.136914</td>\n",
              "    </tr>\n",
              "    <tr>\n",
              "      <th id=\"T_c6125_level0_row4\" class=\"row_heading level0 row4\" >m = 256</th>\n",
              "      <td id=\"T_c6125_row4_col0\" class=\"data row4 col0\" >1.876438</td>\n",
              "      <td id=\"T_c6125_row4_col1\" class=\"data row4 col1\" >1.212858</td>\n",
              "      <td id=\"T_c6125_row4_col2\" class=\"data row4 col2\" >1.071873</td>\n",
              "      <td id=\"T_c6125_row4_col3\" class=\"data row4 col3\" >1.034315</td>\n",
              "      <td id=\"T_c6125_row4_col4\" class=\"data row4 col4\" >1.021696</td>\n",
              "      <td id=\"T_c6125_row4_col5\" class=\"data row4 col5\" >1.018707</td>\n",
              "    </tr>\n",
              "  </tbody>\n",
              "</table>\n"
            ],
            "text/plain": [
              "<pandas.io.formats.style.Styler at 0x2a730ee09e0>"
            ]
          },
          "metadata": {},
          "output_type": "display_data"
        }
      ],
      "source": [
        "tab_index = [f\"m = {m}\" for m in m_list]\n",
        "tab_columns = [f\"r = {r}\" for r in r_list]\n",
        "tab_title = \"Speedup UCR-DTW relative to the naive algorithm <br> (variable query length and warping path size, fixed time series length)\"\n",
        "\n",
        "speedup_exp2 = times_exp2_ucr_dtw / times_exp2_naive\n",
        "visualize_table_speedup(speedup_exp2.T, tab_index, tab_columns, tab_title)"
      ]
    },
    {
      "cell_type": "markdown",
      "metadata": {
        "id": "d7uYZir1JLJi"
      },
      "source": [
        "![equation.png](data:image/png;base64,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)\n",
        "Проанализируйте и изложите содержательный смысл полученных\n",
        "результатов."
      ]
    },
    {
      "cell_type": "markdown",
      "metadata": {
        "id": "_e2qnLfU9e1W"
      },
      "source": [
        "### Анализ результатов\n",
        "\n",
        "#### 1. **Ускорение UCR-DTW относительно наивного алгоритма (переменная длина временного ряда и размер окна деформации, фиксированная длина запроса)**\n",
        "\n",
        "**Анализ:**\n",
        "- **Для малых длин временных рядов (1024 и 2048)**: UCR-DTW показывает значительное ускорение (от 1.6 до 2.2 раз) по сравнению с наивным алгоритмом. Это связано с тем, что UCR-DTW эффективно использует индексацию и эвристики для уменьшения количества вычислений.\n",
        "- **Для больших длин временных рядов (4096 и выше)**: Ускорение становится менее значительным (от 1.2 до 1.6 раз). Это может быть связано с тем, что при увеличении длины временного ряда накладные расходы на индексацию и эвристики становятся менее значимыми по сравнению с общим объемом вычислений.\n",
        "- **Зависимость от размера окна деформации (r)**: Ускорение немного снижается с увеличением размера окна деформации, что может быть связано с тем, что больший размер окна увеличивает количество возможных путей деформации, что усложняет оптимизацию.\n",
        "\n",
        "#### 2. **Ускорение UCR-DTW относительно наивного алгоритма (переменная длина запроса и размер окна деформации, фиксированная длина временного ряда)**\n",
        "\n",
        "**Анализ:**\n",
        "- **Для малых длин запросов (16 и 32)**: UCR-DTW показывает значительное ускорение (от 1.4 до 2.3 раз) по сравнению с наивным алгоритмом. Это связано с тем, что UCR-DTW эффективно обрабатывает короткие запросы, используя индексацию и эвристики.\n",
        "- **Для больших длин запросов (64 и выше)**: Ускорение становится менее значительным (от 1.1 до 1.9 раз). Это может быть связано с тем, что при увеличении длины запроса накладные расходы на индексацию и эвристики становятся менее значимыми по сравнению с общим объемом вычислений.\n",
        "- **Зависимость от размера окна деформации (r)**: Ускорение немного снижается с увеличением размера окна деформации, что может быть связано с тем, что больший размер окна увеличивает количество возможных путей деформации, что усложняет оптимизацию.\n",
        "\n",
        "### Выводы:\n",
        "\n",
        "- UCR-DTW значительно превосходит наивный алгоритм, особенно для малых и средних длин временных рядов и запросов. Это подтверждает эффективность использования индексации и эвристик для уменьшения количества вычислений.\n",
        "\n",
        "- Увеличение размера окна деформации снижает ускорение, что указывает на то, что UCR-DTW менее эффективен при больших окнах деформации. Это связано с тем, что большие окна увеличивают количество возможных путей деформации, что усложняет оптимизацию.\n",
        "\n",
        "- Ускорение снижается с увеличением длины временного ряда и запроса. Это указывает на то, что накладные расходы на индексацию и эвристики становятся менее значимыми по сравнению с общим объемом вычислений при больших длинах."
      ]
    },
    {
      "cell_type": "markdown",
      "metadata": {
        "id": "mza7NVIBKm7o"
      },
      "source": [
        "### **Задача 9.**\n",
        "\n",
        "В данном задании вам предстоит определелить, какую функцию расстояния ED или DTW лучше всего использовать на практике для поиска наиболее похожих подпоследовательностей временного ряда на запрос. Чтобы это сделать, рассмотрим две задачи из различных предметных областей, решить которые предлагается с помощью алгоритмов поиска по образцу.\n",
        "\n",
        "Начнем с **первой задачи из области физиологии человека**. На человеке сначала закрепляют множество акселерометров и гироскопов, после чего он выполняет в помещении последовательность заранее определенных действий (активностей) в течение некоторого промежутка времени. Примерами таких активностей являются открывание/закрывание дверей, включение/выключение света, питье из чашки стоя/сидя и др. В то время как человек выполняет эти активности, датчики фиксируют его скорость и направление наклона тела. Задача дата-сайентиста заключается в том, что необходимо распознать в снятых данных все активности, которые выполнял человек.  \n",
        "\n",
        "Данную задачу упростим, и будем выполнять поиск только одной активности во временном ряде при условии, что у нас имеется образец этой активности. В качестве данных возьмем временной ряд показаний гироскопа, закрепленного на правом запятье руки человека, из набора данных [Opportunity](https://archive.ics.uci.edu/dataset/226/opportunity+activity+recognition) и образец искомой активности, питья из чашки стоя. Данный ряд соответствует примерно 14-минутной записи.\n",
        "\n",
        "Загрузите временной ряд и образец поиска из директории `./datasets/part3/Opportunity` в ноутбук.    "
      ]
    },
    {
      "cell_type": "code",
      "execution_count": 3,
      "metadata": {
        "id": "buXZPR1xKmSP"
      },
      "outputs": [
        {
          "name": "stderr",
          "output_type": "stream",
          "text": [
            "c:\\Users\\maxoh\\Documents\\2024-Ohezin-TimeSeriesCourse\\practice\\02 Similarity search\\modules\\utils.py:20: FutureWarning:\n",
            "\n",
            "The 'delim_whitespace' keyword in pd.read_csv is deprecated and will be removed in a future version. Use ``sep='\\s+'`` instead\n",
            "\n",
            "c:\\Users\\maxoh\\Documents\\2024-Ohezin-TimeSeriesCourse\\practice\\02 Similarity search\\modules\\utils.py:20: FutureWarning:\n",
            "\n",
            "The 'delim_whitespace' keyword in pd.read_csv is deprecated and will be removed in a future version. Use ``sep='\\s+'`` instead\n",
            "\n",
            "c:\\Users\\maxoh\\Documents\\2024-Ohezin-TimeSeriesCourse\\practice\\02 Similarity search\\modules\\utils.py:20: FutureWarning:\n",
            "\n",
            "The 'delim_whitespace' keyword in pd.read_csv is deprecated and will be removed in a future version. Use ``sep='\\s+'`` instead\n",
            "\n"
          ]
        }
      ],
      "source": [
        "ts_url = './datasets/part3/Opportunity/ts.csv'\n",
        "query_url = './datasets/part3/Opportunity/query.csv'\n",
        "labels_url = './datasets/part3/Opportunity/labels.csv'\n",
        "\n",
        "ts = read_ts(ts_url).reshape(-1)\n",
        "query = read_ts(query_url).reshape(-1)\n",
        "labels = read_ts(labels_url).reshape(-1)"
      ]
    },
    {
      "cell_type": "markdown",
      "metadata": {
        "id": "Zj1vvjS2LbE1"
      },
      "source": [
        "Выполните поиск похожих подпоследовательностей на запрос с помощью реализованных вами ранее алгоритмов MASS и UCR-DTW. Согласно истинной разметке, искомую активность человек выполнял 7 раз, поэтому параметр $topK=7$."
      ]
    },
    {
      "cell_type": "code",
      "execution_count": 4,
      "metadata": {
        "id": "02W5Sw_zLbXr"
      },
      "outputs": [],
      "source": [
        "topK = 7\n",
        "r = 0.1\n",
        "excl_zone_frac = 1\n",
        "is_normalize = True\n",
        "\n",
        "# Функции расстояния\n",
        "distance_functions = ['UCR-DTW', 'naive']\n",
        "\n",
        "# Результаты поиска\n",
        "results = {}\n",
        "\n",
        "ucr_dtw = UCR_DTW(excl_zone_frac=excl_zone_frac, topK=topK, is_normalize=is_normalize, r=r)\n",
        "ucr_dtw_results = ucr_dtw.perform(ts, query)\n",
        "results['UCR-DTW'] = ucr_dtw_results\n",
        "\n",
        "naive = NaiveBestMatchFinder(excl_zone_frac=excl_zone_frac, topK=topK, is_normalize=is_normalize, r=r)\n",
        "naive_results = naive.perform(ts, query)\n",
        "results['naive'] = naive_results"
      ]
    },
    {
      "cell_type": "code",
      "execution_count": 10,
      "metadata": {},
      "outputs": [
        {
          "name": "stdout",
          "output_type": "stream",
          "text": [
            "Method: UCR-DTW\n",
            "Indices: [11799, 11798, 11790, 11789, 11788, 11787, 11786, 1915, 1914, 1913, 1912, 1908, 1907, 1906, 1900, 1893, 1892, 1891, 1890, 1889, 1888, 1887, 1886, 1885, 1884, 1883, 1882, 1881, 1880, 1879, 1878, 1877, 1876, 1875, 1874, 1873, 1872, 449, 448, 447, 446, 445, 444, 354, 353, 352, 351, 321, 320, 319, 318, 317, 316, 315, 314, 311, 310, 309, 308, 307, 306, 305, 304, 303, 302, 301, 300]\n",
            "Distances: [np.float64(10032589.0), np.float64(10035214.0), np.float64(10056074.0), np.float64(10060700.0), np.float64(10130832.0), np.float64(10514612.0), np.float64(11440733.0), np.float64(12787459.0), np.float64(12810648.0), np.float64(12852865.0), np.float64(12871560.0), np.float64(12945620.0), np.float64(12950854.0), np.float64(12954263.0), np.float64(12960126.0), np.float64(12962955.0), np.float64(12965578.0), np.float64(12990729.0), np.float64(13007313.0), np.float64(13035102.0), np.float64(13086170.0), np.float64(13148653.0), np.float64(13210505.0), np.float64(13244010.0), np.float64(13279566.0), np.float64(13320869.0), np.float64(13383146.0), np.float64(13462331.0), np.float64(13812947.0), np.float64(14338396.0), np.float64(15677210.0), np.float64(18573046.0), np.float64(25011863.0), np.float64(35755393.0), np.float64(50492500.0), np.float64(69283785.0), np.float64(94769461.0), np.float64(96552843.0), np.float64(96994945.0), np.float64(99067220.0), np.float64(102815074.0), np.float64(109629913.0), np.float64(119635331.0), np.float64(119651746.0), np.float64(122588360.0), np.float64(132106319.0), np.float64(145318160.0), np.float64(147852322.0), np.float64(151628830.0), np.float64(159126035.0), np.float64(170497078.0), np.float64(186414168.0), np.float64(192725090.0), np.float64(194403262.0), np.float64(196223714.0), np.float64(196719824.0), np.float64(196763993.0), np.float64(197136214.0), np.float64(197950453.0), np.float64(198339888.0), np.float64(198747275.0), np.float64(198994572.0), np.float64(199139155.0), np.float64(201127933.0), np.float64(205442226.0), np.float64(211003134.0), np.float64(218742690.0)]\n",
            "\n",
            "Method: naive\n",
            "Indices: [np.int64(11799), np.int64(1916), np.int64(16663), np.int64(9291), np.int64(6650), np.int64(14264), np.int64(4248)]\n",
            "Distances: [np.float64(8.401939356149823), np.float64(10.464902253869468), np.float64(11.081110425446342), np.float64(13.288976873807572), np.float64(13.384446257717942), np.float64(20.228229638064576), np.float64(22.794125863225588)]\n",
            "\n"
          ]
        }
      ],
      "source": [
        "for method in distance_functions:\n",
        "    print(f\"Method: {method}\")\n",
        "    print(f\"Indices: {results[method]['indices']}\")\n",
        "    print(f\"Distances: {results[method]['distance']}\")\n",
        "    print()"
      ]
    },
    {
      "cell_type": "markdown",
      "metadata": {
        "id": "sWnpk5egLbeK"
      },
      "source": [
        "Чтобы оценить качество распознавания активности, загрузите имеющуюся истинную разметку, хранящуюся в файле *labels.csv*. В разметке значением 1 обозначаются моменты времени, когда человек пил из чашки стоя, и значением 0 – в противном случае. Вычислите среди найденных $topK$ подпоследовательностей количество TP (True Positive) и FN (False Negative) с помощью функции `calculate_task1_accuracy()` и сравните между собой показатели, полученные с помощью MASS и UCR-DTW."
      ]
    },
    {
      "cell_type": "code",
      "execution_count": 12,
      "metadata": {
        "id": "BiAQO1SDMLxQ"
      },
      "outputs": [],
      "source": [
        "def calculate_task1_accuracy(labels: np.array, predicted_results: np.array) -> dict:\n",
        "    \"\"\"\n",
        "    Calculate the accuracy of the algorithm which performs the activity recognition\n",
        "\n",
        "    Parameters\n",
        "    ----------\n",
        "    labels: true labels\n",
        "    predicted_results: results are predicted by algorithm\n",
        "\n",
        "    Returns\n",
        "    -------\n",
        "        The number of True Positive and False Negative examples\n",
        "    \"\"\"\n",
        "\n",
        "    TP = 0\n",
        "    FN = 0\n",
        "\n",
        "    topK = len(predicted_results['indices'])\n",
        "\n",
        "    for i in range(topK):\n",
        "        idx = predicted_results['indices'][i]\n",
        "        if (labels[idx] == 1):\n",
        "            TP = TP + 1\n",
        "\n",
        "    FN = topK - TP\n",
        "\n",
        "    return {'TP': TP,\n",
        "            'FN': FN}"
      ]
    },
    {
      "cell_type": "code",
      "execution_count": 13,
      "metadata": {
        "id": "8WERGe60LbjP"
      },
      "outputs": [
        {
          "name": "stdout",
          "output_type": "stream",
          "text": [
            "Method: UCR-DTW\n",
            "TP: 37\n",
            "FN: 30\n",
            "\n",
            "Method: naive\n",
            "TP: 7\n",
            "FN: 0\n",
            "\n"
          ]
        }
      ],
      "source": [
        "# Вычисление TP и FN для каждого метода\n",
        "accuracy_results = {}\n",
        "\n",
        "for method in distance_functions:\n",
        "    accuracy = calculate_task1_accuracy(labels, results[method])\n",
        "    accuracy_results[method] = accuracy\n",
        "    \n",
        "# Вывод результатов\n",
        "for method, accuracy in accuracy_results.items():\n",
        "    print(f\"Method: {method}\")\n",
        "    print(f\"TP: {accuracy['TP']}\")\n",
        "    print(f\"FN: {accuracy['FN']}\")\n",
        "    print()\n"
      ]
    },
    {
      "cell_type": "markdown",
      "metadata": {
        "id": "B22pE5hOLboG"
      },
      "source": [
        "Итоговый вывод о преимуществе одной функции расстояния над другой в задаче поиска по образцу на данный момент делать еще рано, поэтому решим **вторую задачу из области транспорта**. Данная задача заключается в прогнозировании потока пешеходов в некоторой точке города на основе прошлых данных.\n",
        "\n",
        "Прогнозирование ряда $T$ длины $n$ будем выполнять следующим образом. Сначала сформируем запрос $Q$, состоящий из $m$ последних по времени элементов ряда, $Q = T_{n-m+1,m}$. Далее среди всех подпоследовательностей ряда $T$, начинающихся с 1 до $n-2m$ позиций, найдем $topK$ похожих на запрос $Q$. Обозначим за $h > 0$ горизонт прогнозирования, определяющий количество элементов ряда, значения которых необходимо спрогнозировать. Для нахождения будущих значений будем брать $h$ элементов ряда, которые следуют за концевыми точками найденных похожих подпоследовательностей. В итоге, будущие значения будут получаться путем применения агрегатной функции к этим элементам. В качестве агрегатной функции может использоваться среднее арифметическое, взвешенное среднее, медиана и др.\n",
        "\n",
        "Загрузите временной ряд из файла *pedestrian_count.csv*, расположенного в директории *./datasets/part3/Melbourne*. Данный ряд содержит почасовую статистику о количестве пешеходов на улице Бурке в Мельбурне (Австралия), являющейся одной из главных улиц города. Данные собраны за период с 1 марта 2020 по 31 октября 2022 гг. Полный набор данных и его детальное описание доступны по следующей [ссылке](https://data.melbourne.vic.gov.au/explore/dataset/pedestrian-counting-system-monthly-counts-per-hour/information/)."
      ]
    },
    {
      "cell_type": "code",
      "execution_count": 21,
      "metadata": {
        "id": "l9ZRT3e7LbtI"
      },
      "outputs": [],
      "source": [
        "data_path = './datasets/part3/Melbourne/pedestrian_count.csv'\n",
        "\n",
        "data = pd.read_csv(data_path, header=0)\n",
        "\n",
        "T = data['Hourly_Counts'].values\n",
        "\n",
        "# Параметры\n",
        "h = 24  # горизонт прогнозирования\n",
        "m = 168  # длина запроса и подпоследовательностей\n",
        "\n",
        "# Разделение данных\n",
        "n = len(T)\n",
        "T_train = T[0:(n-m-h)]\n",
        "Q = T[(n-m-h):(n-h)]\n",
        "real_values = T[-h:]\n"
      ]
    },
    {
      "cell_type": "markdown",
      "metadata": {
        "id": "tp6lalDuLbxc"
      },
      "source": [
        "Реализуйте алгоритм прогнозирования временного ряда на основе UCR-DTW и MASS, следуя приведенному выше описанию. За прогнозирование отвечает класс `BestMatchPredictor` из модуля *prediction.py*, дополните его недостающим кодом.  \n",
        "\n",
        "Далее выполните прогнозирование потока людей для исходных данных на 1 день вперед (24 значения). Для этого установите следующие входные параметры:\n",
        "<ul>\n",
        "  <li>$h = 24$ (горизонт прогнозирования);</li>\n",
        "  <li>$m = 168$ (длина запроса и подпоследовательностей, соответствующая 1 неделе);</li>\n",
        "  <li>$aggr\\_func = \\text{'average'}$ (агрегатная функция);</li>\n",
        "  <li>для алгоритма UCR-DTW:\n",
        "    <ul>\n",
        "      <li>$topK = 5$ (количество похожих подпоследовательностей на запрос);</li>\n",
        "      <li>$r = 0.1$ (ширина полосы Сако–Чиба);</li>\n",
        "      <li>$excl\\_zone\\_frac = 1$ (доля от длины подпоследовательностей, на основе которой определяется, являются ли подпоследоватлеьности тривиальными совпадениями);</li>\n",
        "      <li>$is\\_normalize = True$ ($z$-нормализация запроса и подпоследовательностей);</li>\n",
        "    </ul>\n",
        "  </li>\n",
        "  <li>для алгоритма MASS:</li>\n",
        "    <ul>\n",
        "      <li>$topK = 5$ (количество похожих подпоследовательностей на запрос);</li>\n",
        "      <li>$excl\\_zone\\_frac = 1$ (доля от длины подпоследовательностей, на основе которой определяется, являются ли подпоследоватлеьности тривиальными совпадениями).</li>\n",
        "    </ul>\n",
        "</ul>\n",
        "\n",
        "Будем считать, что последние $h$ значений в загруженном временном ряде $T$ длины $n$ отсутствуют. Поэтому перед тем как находить прогнозные значения,  подготовьте данные. Разделите загруженный временной ряд $T$ на три части:\n",
        "<ol>\n",
        "  <li>ряд $T_{train}$, в котором будет выполняться поиск похожих подпоследовательностей на запрос $Q$: $T_{train} = T[0:(n-m-h)]$</li>\n",
        "  <li>запрос $Q$: $Q = T[(n-m-h) : (n-h)]$</li>\n",
        "  <li>реальные значения ряда $real\\_values$, которые необходимо спрогнозировать: $real\\_values = T[-h:] $</li>\n",
        "</ol>"
      ]
    },
    {
      "cell_type": "code",
      "execution_count": 22,
      "metadata": {
        "id": "UxzzgpvOP9FU"
      },
      "outputs": [],
      "source": [
        "# Параметры для UCR-DTW\n",
        "ucr_dtw_params = {\n",
        "    'excl_zone_frac': 1,\n",
        "    'topK': 5,\n",
        "    'is_normalize': True,\n",
        "    'r': 0.1,\n",
        "    'aggr_func': 'average'\n",
        "}\n",
        "\n",
        "# Параметры для MASS\n",
        "mass_params = {\n",
        "    'excl_zone_frac': 1,\n",
        "    'topK': 5,\n",
        "    'is_normalize': False,\n",
        "    'r': 0,\n",
        "    'aggr_func': 'average'\n",
        "}"
      ]
    },
    {
      "cell_type": "code",
      "execution_count": 23,
      "metadata": {},
      "outputs": [
        {
          "name": "stdout",
          "output_type": "stream",
          "text": [
            "Predicted values using UCR-DTW: [0.000e+00 0.000e+00 0.000e+00 0.000e+00 0.000e+00 0.000e+00 4.000e+01\n",
            " 1.500e+02 3.200e+02 3.370e+02 3.680e+02 5.380e+02 1.069e+03 1.139e+03\n",
            " 6.650e+02 6.300e+02 6.840e+02 7.780e+02 5.770e+02 3.700e+02 6.500e+01\n",
            " 1.300e+01 1.000e+00 0.000e+00]\n",
            "Predicted values using MASS: [ 22.6  36.6  73.4 139.2 213.4 290.2 377.  509.  603.8 656.2 690.2 700.6\n",
            " 691.  643.  632.8 623.4 601.  514.2 435.8 339.8 255.6 165.8  89.   55.8]\n",
            "Real values: [   0    0    0    0    0    0   44  112  227  383  530  717  846 1091\n",
            "  846  839  702  557  424  423   24    4    0   22]\n",
            "Mean Absolute Error (UCR-DTW): 70.875\n",
            "Mean Absolute Error (MASS): 171.61666666666667\n"
          ]
        }
      ],
      "source": [
        "# Создание экземпляра класса для UCR-DTW\n",
        "ucr_dtw_predictor = BestMatchPredictor(**ucr_dtw_params)\n",
        "\n",
        "# Прогнозирование с использованием UCR-DTW\n",
        "predicted_values_ucr_dtw = ucr_dtw_predictor.perform(T_train, Q, h)\n",
        "\n",
        "# Создание экземпляра класса для MASS\n",
        "mass_predictor = BestMatchPredictor(**mass_params)\n",
        "\n",
        "# Прогнозирование с использованием MASS\n",
        "predicted_values_mass = mass_predictor.perform(T_train, Q, h)\n",
        "\n",
        "# Вывод результатов\n",
        "print(\"Predicted values using UCR-DTW:\", predicted_values_ucr_dtw)\n",
        "print(\"Predicted values using MASS:\", predicted_values_mass)\n",
        "print(\"Real values:\", real_values)\n",
        "\n",
        "# Вычисление ошибки прогноза\n",
        "error_ucr_dtw = np.mean(np.abs(predicted_values_ucr_dtw - real_values))\n",
        "error_mass = np.mean(np.abs(predicted_values_mass - real_values))\n",
        "\n",
        "print(\"Mean Absolute Error (UCR-DTW):\", error_ucr_dtw)\n",
        "print(\"Mean Absolute Error (MASS):\", error_mass)"
      ]
    },
    {
      "cell_type": "markdown",
      "metadata": {
        "id": "5QeOFSuAO0m_"
      },
      "source": [
        "Далее выполните сравнение эффективности алгоритма при UCR-DTW и MASS по точности прогнозирования. Для оценки точности используйте **меру\n",
        "среднеквадратичной ошибки RMSE (Root Mean Square Error)**, которая определяется следующим образом:\n",
        "\\begin{equation}\n",
        "RMSE = \\sqrt{\\frac{1}{h}\\sum_{i=1}^h{(t_i-\\tilde{t}_i)}^2},\n",
        "\\end{equation}\n",
        "где $t_i$ и $\\tilde{t}_i$ — фактическое и прогнозное значения элемента ряда, $h$ — количество прогнозных элементов временного ряда."
      ]
    },
    {
      "cell_type": "code",
      "execution_count": 25,
      "metadata": {
        "id": "o6CWLkibO0s4"
      },
      "outputs": [
        {
          "name": "stdout",
          "output_type": "stream",
          "text": [
            "Root Mean Square Error (UCR-DTW): 107.35746364366103\n",
            "Root Mean Square Error (MASS): 213.3131266471897\n"
          ]
        }
      ],
      "source": [
        "from sklearn.metrics import mean_squared_error\n",
        "\n",
        "# Вычисление RMSE для UCR-DTW\n",
        "rmse_ucr_dtw = np.sqrt(mean_squared_error(real_values, predicted_values_ucr_dtw))\n",
        "\n",
        "# Вычисление RMSE для MASS\n",
        "rmse_mass = np.sqrt(mean_squared_error(real_values, predicted_values_mass))\n",
        "\n",
        "# Вывод результатов\n",
        "print(\"Root Mean Square Error (UCR-DTW):\", rmse_ucr_dtw)\n",
        "print(\"Root Mean Square Error (MASS):\", rmse_mass)"
      ]
    },
    {
      "cell_type": "markdown",
      "metadata": {
        "id": "sOTIGbhSO0xZ"
      },
      "source": [
        "![equation.png](data:image/png;base64,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) Сделайте вывод о влиянии функции расстояния ED и DTW на точность решения задач интеллектульного анализа данных, которые основаны на алгоритмах поиска по образцу.  "
      ]
    },
    {
      "cell_type": "markdown",
      "metadata": {
        "id": "CpNKtCw2O06_"
      },
      "source": [
        "1. **Евклидово расстояние (ED):**\n",
        "   - **Принцип работы:** ED измеряет прямолинейное расстояние между двумя точками в многомерном пространстве. Оно подходит для временных рядов, которые имеют одинаковую длину и синхронизированы по времени.\n",
        "   - **Преимущества:** Простота вычисления и интерпретации.\n",
        "   - **Недостатки:** Не учитывает возможные сдвиги и растяжения во времени, что может быть критично для временных рядов с нестационарными свойствами.\n",
        "\n",
        "2. **Динамическое временное преобразование (DTW):**\n",
        "   - **Принцип работы:** DTW находит оптимальное соответствие между двумя временными рядами, позволяя одному ряду быть \"растянутым\" или \"сжатым\" во времени для лучшего совпадения с другим рядом.\n",
        "   - **Преимущества:** Более гибкий подход, который может учитывать нелинейные сдвиги и растяжения во времени.\n",
        "   - **Недостатки:** Более высокая вычислительная сложность по сравнению с ED.\n",
        "\n",
        "### Вывод на основе полученных результатов:\n",
        "\n",
        "UCR-DTW  показал более низкую среднюю абсолютную ошибку (MAE) и RMSE по сравнению с MASS. Это указывает на то, что DTW более эффективен для задач интеллектуального анализа данных, которые требуют учета нелинейных сдвигов и растяжений во времени.\n",
        "\n",
        "\n",
        "### Выводы:\n",
        "\n",
        "1. **DTW более эффективен для нестационарных временных рядов:**\n",
        "   - Если временные ряды имеют нелинейные сдвиги и растяжения, DTW обеспечивает более точные прогнозы по сравнению с ED.\n",
        "\n",
        "2. **ED подходит для стационарных временных рядов:**\n",
        "   - Для временных рядов, которые хорошо синхронизированы по времени и не имеют значительных сдвигов, ED может быть достаточно эффективным.\n",
        "\n",
        "3. **Вычислительная сложность:**\n",
        "   - DTW требует больше вычислительных ресурсов, чем ED, но это компенсируется повышенной точностью в задачах, где учет временных сдвигов критичен."
      ]
    },
    {
      "cell_type": "markdown",
      "metadata": {},
      "source": []
    }
  ],
  "metadata": {
    "colab": {
      "collapsed_sections": [
        "X5XwzbI867MC"
      ],
      "provenance": []
    },
    "kernelspec": {
      "display_name": "Python 3",
      "name": "python3"
    },
    "language_info": {
      "codemirror_mode": {
        "name": "ipython",
        "version": 3
      },
      "file_extension": ".py",
      "mimetype": "text/x-python",
      "name": "python",
      "nbconvert_exporter": "python",
      "pygments_lexer": "ipython3",
      "version": "3.12.5"
    }
  },
  "nbformat": 4,
  "nbformat_minor": 0
}
