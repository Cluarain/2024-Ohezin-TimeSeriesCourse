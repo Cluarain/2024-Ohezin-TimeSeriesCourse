{
  "cells": [
    {
      "cell_type": "markdown",
      "metadata": {
        "id": "848J-iNspu81"
      },
      "source": [
        "# Анализ и прогнозирование временных рядов методами искусственного интеллекта\n",
        "\n",
        "## **Практическая работа 4. Матричный профиль. Поиск примитивов на его основе.**"
      ]
    },
    {
      "cell_type": "markdown",
      "metadata": {
        "id": "uBwKu7MQ6pnH"
      },
      "source": [
        "Смените рабочую директорию с помощью команды `chdir()`. Для этого передайте этой команде свой путь до каталога, в котором содержатся материалы четвертой практической работы. После выполнения этой команды все последующие операции с файлами и каталогами будут производиться относительно указанного каталога."
      ]
    },
    {
      "cell_type": "code",
      "execution_count": 1,
      "metadata": {
        "id": "pBTFTExaqX03"
      },
      "outputs": [],
      "source": [
        "import os\n",
        "practice_dir_path = os.getcwd()\n",
        "os.chdir(practice_dir_path)"
      ]
    },
    {
      "cell_type": "markdown",
      "metadata": {
        "id": "1_QRW2q86rZW"
      },
      "source": [
        "Выполните команды, которые автоматически перезагружают все импортированные модули при их изменении."
      ]
    },
    {
      "cell_type": "code",
      "execution_count": 2,
      "metadata": {
        "id": "6emyv2OuZpLO"
      },
      "outputs": [],
      "source": [
        "%load_ext autoreload\n",
        "%autoreload 2"
      ]
    },
    {
      "cell_type": "markdown",
      "metadata": {
        "id": "pwafRieiBj4V"
      },
      "source": [
        "Импортируйте библиотеки и модули, необходимые для реализации практической работы 4."
      ]
    },
    {
      "cell_type": "code",
      "execution_count": 3,
      "metadata": {
        "id": "Agb3GWvGWbql"
      },
      "outputs": [],
      "source": [
        "# !pip install stumpy"
      ]
    },
    {
      "cell_type": "code",
      "execution_count": 4,
      "metadata": {
        "id": "_9Sf36euo_xp"
      },
      "outputs": [
        {
          "data": {
            "text/html": [
              "        <script type=\"text/javascript\">\n",
              "        window.PlotlyConfig = {MathJaxConfig: 'local'};\n",
              "        if (window.MathJax && window.MathJax.Hub && window.MathJax.Hub.Config) {window.MathJax.Hub.Config({SVG: {font: \"STIX-Web\"}});}\n",
              "        if (typeof require !== 'undefined') {\n",
              "        require.undef(\"plotly\");\n",
              "        requirejs.config({\n",
              "            paths: {\n",
              "                'plotly': ['https://cdn.plot.ly/plotly-2.35.2.min']\n",
              "            }\n",
              "        });\n",
              "        require(['plotly'], function(Plotly) {\n",
              "            window._Plotly = Plotly;\n",
              "        });\n",
              "        }\n",
              "        </script>\n",
              "        "
            ]
          },
          "metadata": {},
          "output_type": "display_data"
        },
        {
          "data": {
            "text/html": [
              "        <script type=\"text/javascript\">\n",
              "        window.PlotlyConfig = {MathJaxConfig: 'local'};\n",
              "        if (window.MathJax && window.MathJax.Hub && window.MathJax.Hub.Config) {window.MathJax.Hub.Config({SVG: {font: \"STIX-Web\"}});}\n",
              "        if (typeof require !== 'undefined') {\n",
              "        require.undef(\"plotly\");\n",
              "        requirejs.config({\n",
              "            paths: {\n",
              "                'plotly': ['https://cdn.plot.ly/plotly-2.35.2.min']\n",
              "            }\n",
              "        });\n",
              "        require(['plotly'], function(Plotly) {\n",
              "            window._Plotly = Plotly;\n",
              "        });\n",
              "        }\n",
              "        </script>\n",
              "        "
            ]
          },
          "metadata": {},
          "output_type": "display_data"
        }
      ],
      "source": [
        "import pandas as pd\n",
        "import numpy as np\n",
        "import os\n",
        "import datetime\n",
        "\n",
        "from modules.plots import *\n",
        "from modules.mp import compute_mp\n",
        "from modules.motifs import top_k_motifs\n",
        "from modules.discords import top_k_discords\n",
        "from modules.meter_swapping_detection import *"
      ]
    },
    {
      "cell_type": "markdown",
      "metadata": {
        "id": "3hWXaYNkW-Jd"
      },
      "source": [
        "## **Часть 1.** Матричный профиль. Поиск мотивов и диссонансов."
      ]
    },
    {
      "cell_type": "markdown",
      "metadata": {
        "id": "qTyoiarh4XFT"
      },
      "source": [
        "### **Задача 1.**\n",
        "Загрузите временной ряд, который содержит данные о почасовом потреблении электроэнергии некоторого итальянского города, снимаемые в течение 3 лет, начиная с 1 января 1995 года."
      ]
    },
    {
      "cell_type": "code",
      "execution_count": 5,
      "metadata": {
        "id": "SZ3azydoo_4j"
      },
      "outputs": [],
      "source": [
        "ts_url = './datasets/part1/italianpowerdemand.csv'\n",
        "\n",
        "ts = pd.read_csv(ts_url, header=None).squeeze().to_numpy()"
      ]
    },
    {
      "cell_type": "markdown",
      "metadata": {
        "id": "19sRAD-C1EjJ"
      },
      "source": [
        "Визуализируйте временной ряд, используя функцию `plot_ts()` из модуля *plot.py*."
      ]
    },
    {
      "cell_type": "markdown",
      "metadata": {
        "id": "nsM9BgYUjiRV"
      },
      "source": [
        "Анализ временных рядов на основе матричного профиля осуществляет библиотека [stumpy](https://stumpy.readthedocs.io/en/latest/index.html). Напишите функцию `compute_mp()` в модуле *mp.py*, которая вычисляет матричный профиль временного ряда на основе выбранной вами функции из библиотеки *stumpy*."
      ]
    },
    {
      "cell_type": "code",
      "execution_count": 6,
      "metadata": {
        "id": "i1OfGheUpAC7"
      },
      "outputs": [
        {
          "data": {
            "text/plain": [
              "{'mp': mparray([2.6090936641684754, 2.5924180135436403, 2.5987763812474363, ...,\n",
              "          2.00768186761169, 2.0206415581726054, 2.030675731612961],\n",
              "         dtype=object),\n",
              " 'mpi': mparray([3.2041765174460095, 3.2251291674875207, 3.264389872543432, ...,\n",
              "          2.2976030474132276, 2.305913061730817, 2.3187101017735254],\n",
              "         dtype=object),\n",
              " 'm': 165,\n",
              " 'excl_zone': 83,\n",
              " 'data': {'ts1': array([127., 126., 120., ..., 143., 161., 151.]),\n",
              "  'ts2': None}}"
            ]
          },
          "execution_count": 6,
          "metadata": {},
          "output_type": "execute_result"
        }
      ],
      "source": [
        "m = 165\n",
        "excl_zone = int(np.ceil(m / 2))\n",
        "mp = {}\n",
        "\n",
        "# INSERT YOUR CODE\n",
        "mp = compute_mp(ts, m, excl_zone)\n",
        "mp"
      ]
    },
    {
      "cell_type": "markdown",
      "metadata": {
        "id": "cxNnIDcsjf9M"
      },
      "source": [
        "Визуализируйте найденный матричный профиль ряда."
      ]
    },
    {
      "cell_type": "code",
      "execution_count": 7,
      "metadata": {
        "id": "708AtgfVZSi6"
      },
      "outputs": [],
      "source": [
        "plot_ts(mp['mp'], \"Matrix Profile\")"
      ]
    },
    {
      "cell_type": "markdown",
      "metadata": {
        "id": "iP2VhH2S4Z6c"
      },
      "source": [
        "### **Задача 2.**\n",
        "Выполните поиск top-$k$ мотивов в исходном временном ряде на основе построенного матричного профиля. Для этого реализуйте самостоятельно функцию `top_k_motifs()` в модуле *motifs.py*. Среди найденных мотивов не должно быть тривиальных совпадений, поэтому в `top_k_motifs()` добавьте вызов функции `apply_exclusion_zone()` из модуля *utils.py*."
      ]
    },
    {
      "cell_type": "code",
      "execution_count": 8,
      "metadata": {
        "id": "DcL9ITEI6YHS"
      },
      "outputs": [],
      "source": [
        "top_k = 6\n",
        "motifs = {}\n",
        "\n",
        "top_k_idxs = stumpy.motifs(ts.astype(np.float64), mp['mp'], max_matches=top_k)[1][0]\n",
        "\n",
        "motifs['indices'] = [sorted([top_k_idxs[i], top_k_idxs[i+1]]) for i in range(0, len(top_k_idxs)-1, 2)]"
      ]
    },
    {
      "cell_type": "markdown",
      "metadata": {
        "id": "W5fDQZxE4iPn"
      },
      "source": [
        "Выполните визуализацию найденных top-$k$ мотивов с помощью функции `plot_motifs()` из *plots.py*."
      ]
    },
    {
      "cell_type": "code",
      "execution_count": 9,
      "metadata": {
        "id": "5xWtssYsKLN-"
      },
      "outputs": [],
      "source": [
        "plot_motifs(mp, motifs)"
      ]
    },
    {
      "cell_type": "markdown",
      "metadata": {
        "id": "prawVSmlIUQr"
      },
      "source": [
        "![equation.png](data:image/png;base64,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)\n",
        "Проанализируйте и изложите содержательный смысл полученных результатов."
      ]
    },
    {
      "cell_type": "markdown",
      "metadata": {
        "id": "9Y4zIaIoIUlf"
      },
      "source": [
        "*# WRITE YOUR ANSWER*"
      ]
    },
    {
      "cell_type": "markdown",
      "metadata": {
        "id": "TPppwxlR4qdU"
      },
      "source": [
        "### **Задача 3.**\n",
        "Реализуйте самостоятельно функцию `top_k_discords()` в модуле *discords.py*, предназначенную для поиска top-$k$ диссонансов во временном ряде на основе матричного профиля. Чтобы исключить попадание тривиальных совпадений в результирующее множество диссонансов воспользуйтесь функцией `apply_exclusion_zone()` из модуля *utils.py*.\n",
        "\n",
        "Загрузите временной ряд *nyc_taxi.csv* из директории *./datasets/part1/*, содежащий данные о среднем числе пассажиров NY такси за осень 2014 года."
      ]
    },
    {
      "cell_type": "code",
      "execution_count": 10,
      "metadata": {
        "id": "zqe65SjrWYfk"
      },
      "outputs": [],
      "source": [
        "ts_url = './datasets/part1/nyc_taxi.csv'\n",
        "\n",
        "ts = pd.read_csv(ts_url, index_col=0, header=0).squeeze().to_numpy()\n",
        "plot_ts(ts, \"Input time series\")"
      ]
    },
    {
      "cell_type": "code",
      "execution_count": 11,
      "metadata": {
        "id": "Z21Gagpq5VY0"
      },
      "outputs": [
        {
          "data": {
            "text/plain": [
              "mparray([2636, 2300, 2662, ..., 9984, 9986, 9985])"
            ]
          },
          "execution_count": 11,
          "metadata": {},
          "output_type": "execute_result"
        }
      ],
      "source": [
        "m = 96\n",
        "excl_zone = int(np.ceil(m / 2))\n",
        "mp = {}\n",
        "\n",
        "mp = compute_mp(ts.astype(np.float64), m, excl_zone)\n",
        "np.array([])\n",
        "np.argsort(mp['mp'])"
      ]
    },
    {
      "cell_type": "code",
      "execution_count": 12,
      "metadata": {
        "id": "I778nahoyDMM"
      },
      "outputs": [
        {
          "name": "stdout",
          "output_type": "stream",
          "text": [
            "[np.int64(9985), np.int64(10048), np.int64(8784), np.int64(10097), np.int64(8837), np.int64(5868), np.int64(105), np.int64(9651), np.int64(8449), np.int64(5954), np.int64(7107), np.int64(154), np.int64(8396), np.int64(8640), np.int64(2930)]\n"
          ]
        }
      ],
      "source": [
        "top_k = 15\n",
        "discords = {}\n",
        "\n",
        "top_k_idxs = []\n",
        "argsort_mp = np.argsort(mp['mp'])\n",
        "for i in range (1, len(argsort_mp)+1):\n",
        "  idx = argsort_mp[-i]\n",
        "  flag =True\n",
        "  for top_k_idx in top_k_idxs:\n",
        "      if abs (top_k_idx - idx) < excl_zone:\n",
        "        flag = False\n",
        "  if flag:\n",
        "      top_k_idxs.append(idx)\n",
        "  if len (top_k_idxs) == top_k:\n",
        "      break\n",
        "print(top_k_idxs)\n",
        "\n",
        "discords['indices'] = top_k_idxs"
      ]
    },
    {
      "cell_type": "markdown",
      "metadata": {
        "id": "f1R81qZg4tgy"
      },
      "source": [
        "Выполните визуализацию найденных top-$k$ диссонансов."
      ]
    },
    {
      "cell_type": "code",
      "execution_count": 13,
      "metadata": {
        "id": "e2GYVOqQVV-A"
      },
      "outputs": [],
      "source": [
        "plot_discords(mp, discords)"
      ]
    },
    {
      "cell_type": "markdown",
      "metadata": {
        "id": "JQPR9JHMH3qt"
      },
      "source": [
        "![equation.png](data:image/png;base64,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)\n",
        "Проанализируйте и изложите содержательный смысл полученных результатов."
      ]
    },
    {
      "cell_type": "markdown",
      "metadata": {
        "id": "6ihowl1fH48e"
      },
      "source": [
        "*# WRITE YOUR ANSWER*"
      ]
    },
    {
      "cell_type": "markdown",
      "metadata": {
        "id": "52Wn93r8lvzv"
      },
      "source": [
        "## **Часть 2.** Сегментация повторяющихся активностей."
      ]
    },
    {
      "cell_type": "markdown",
      "metadata": {
        "id": "83c-Seb02J05"
      },
      "source": [
        "### **Задача 4.**\n",
        "\n",
        "Загрузите временной ряд PAMAP *pamap.csv* из директории *./datasets/part2/*, представляющий собой показания закрепленного на человеке виброакселерометра. Данный ряд включает показания, снятые при выполнении человеком трех видов физической активности: ходьба, подъем по лестнице и спуск по лестнице. Необходимо сегментировать временной ряд на основе его матричного профиля для определения того, когда человек шел и когда поднимался/спускался. Поскольку подъем и спуск по лестнице – это схожие действия, поэтому будем считать, что это одна активность.  "
      ]
    },
    {
      "cell_type": "code",
      "execution_count": 14,
      "metadata": {
        "id": "IQEievnVSYZ5"
      },
      "outputs": [],
      "source": [
        "ts_url = './datasets/part2/pamap.csv'\n",
        "\n",
        "ts = pd.read_csv(ts_url, header=None).squeeze().to_numpy()"
      ]
    },
    {
      "cell_type": "markdown",
      "metadata": {
        "id": "CcJiFjZdNReI"
      },
      "source": [
        "Визуализируйте временной ряд PAMAP."
      ]
    },
    {
      "cell_type": "code",
      "execution_count": 15,
      "metadata": {
        "id": "1CV8ncpZSYml"
      },
      "outputs": [],
      "source": [
        "plot_ts(ts, \"Input time series\")"
      ]
    },
    {
      "cell_type": "markdown",
      "metadata": {
        "id": "5X7RgWWZNXy6"
      },
      "source": [
        "Найдите и визуализируйте матричный профиль временного ряда."
      ]
    },
    {
      "cell_type": "code",
      "execution_count": 16,
      "metadata": {
        "id": "1JCQILbxSY01"
      },
      "outputs": [],
      "source": [
        "m = 100\n",
        "excl_zone = m\n",
        "mp = {}\n",
        "\n",
        "mp = compute_mp(ts, m, excl_zone)"
      ]
    },
    {
      "cell_type": "code",
      "execution_count": 17,
      "metadata": {
        "id": "PrWME8r8SZEh"
      },
      "outputs": [],
      "source": [
        "plot_ts(mp['mp'], \"Matrix Profile\")"
      ]
    },
    {
      "cell_type": "markdown",
      "metadata": {
        "id": "iHlrsF1YxEj_"
      },
      "source": [
        "Вычислите порог по формуле, которая представлена в презентации [04 Matrix profile.pdf](https://github.com/mzym/TimeSeriesCourse/blob/main/slides/04%20Matrix%20profile.pdf)."
      ]
    },
    {
      "cell_type": "code",
      "execution_count": 18,
      "metadata": {
        "id": "V2Dmy8RDUELn"
      },
      "outputs": [],
      "source": [
        "threshold = 0\n",
        "\n",
        "df = pd.DataFrame([mp['mp'], mp['mpi']]).T\n",
        "df = df.loc[df[0] != np.inf]\n",
        "#матричный профиль и индексы матричного профиля\n",
        "mp['mp'] = np.array(df[0])\n",
        "mp['mpi'] = np.array(df[1])"
      ]
    },
    {
      "cell_type": "markdown",
      "metadata": {
        "id": "K5JgTIJPxTR7"
      },
      "source": [
        "Выполните визуализацию результатов сегментации повторяющихся активностей."
      ]
    },
    {
      "cell_type": "code",
      "execution_count": 19,
      "metadata": {
        "id": "zQDEJ4mVV4UM"
      },
      "outputs": [],
      "source": [
        "plot_segmentation(mp, threshold)"
      ]
    },
    {
      "cell_type": "markdown",
      "metadata": {
        "id": "FAnTDBq9TJdy"
      },
      "source": [
        "Загрузите истинную разметку временного ряда PAMAP *pamap_labels.csv*, где 0 означает ходьбу, 1 – подъем по лестнице, 2 – спуск с лестницы. Вычислите точность по метрике accuracy, сравнив полученные результаты по основе матричного профиля с истинной разметкой."
      ]
    },
    {
      "cell_type": "code",
      "execution_count": 20,
      "metadata": {
        "id": "2Gy0ekSTT_cN"
      },
      "outputs": [],
      "source": [
        "labels_url = './datasets/part2/pamap_labels.csv'\n",
        "\n",
        "labels = pd.read_csv(labels_url, header=None).squeeze().to_numpy()"
      ]
    },
    {
      "cell_type": "code",
      "execution_count": 21,
      "metadata": {
        "id": "0j240KlM24lT"
      },
      "outputs": [
        {
          "data": {
            "text/plain": [
              "0.0"
            ]
          },
          "execution_count": 21,
          "metadata": {},
          "output_type": "execute_result"
        }
      ],
      "source": [
        "from sklearn.metrics import accuracy_score\n",
        "\n",
        "#валидация процесса\n",
        "labels = np.where(labels==2, 1, labels)\n",
        "labels = labels[m:]\n",
        "labels = labels[sorted(mp['mpi'].astype(int))]\n",
        "\n",
        "#ычислияем точность по метрике accuracy\n",
        "labels_pred = (mp['mp'] < threshold).astype(int)\n",
        "accuracy_score(labels, labels_pred)"
      ]
    },
    {
      "cell_type": "markdown",
      "metadata": {
        "id": "0XsJfvsDwEs9"
      },
      "source": [
        "## **Чaсть 3.** Casy Study: Раскрытие краж электричества подменой счетчиков (meter-swapping detection).\n"
      ]
    },
    {
      "cell_type": "markdown",
      "metadata": {
        "id": "ASHK6nFV2M3x"
      },
      "source": [
        "### **Задача 5.**\n",
        "\n",
        "Рассмотрим практическое применение использования матричного профиля для решения задачи, связанной с раскрытием краж электричества путем подмены счетчиков.\n",
        "\n",
        "Загрузите временные ряды из директории *./datasets/part3/*, которые были выбраны случайным образом из набора данных (House 1, 2, 3, 4 и 11), содержащего данные потребления электроэнергии 20 жилых домов в Великобритании с 1 января по 23 декабря 2014 года."
      ]
    },
    {
      "cell_type": "code",
      "execution_count": 22,
      "metadata": {
        "id": "9A-Kr4YLxSIW"
      },
      "outputs": [
        {
          "data": {
            "text/plain": [
              "{'House1':                                1\n",
              " 0                               \n",
              " 2014-01-01 00:00:00  1422.005576\n",
              " 2014-01-01 01:00:00  1707.948669\n",
              " 2014-01-01 02:00:00  1442.025253\n",
              " 2014-01-01 03:00:00  1374.657191\n",
              " 2014-01-01 04:00:00  1757.285235\n",
              " ...                          ...\n",
              " 2014-12-30 19:00:00   775.627087\n",
              " 2014-12-30 20:00:00   475.499072\n",
              " 2014-12-30 21:00:00   513.735568\n",
              " 2014-12-30 22:00:00   659.945896\n",
              " 2014-12-30 23:00:00   413.411215\n",
              " \n",
              " [8736 rows x 1 columns],\n",
              " 'House2':                                1\n",
              " 0                               \n",
              " 2014-02-13 16:00:00   783.505155\n",
              " 2014-02-13 17:00:00          NaN\n",
              " 2014-02-13 18:00:00          NaN\n",
              " 2014-02-13 19:00:00   241.000000\n",
              " 2014-02-13 20:00:00  1102.175000\n",
              " ...                          ...\n",
              " 2014-12-30 19:00:00   138.643810\n",
              " 2014-12-30 20:00:00    95.211429\n",
              " 2014-12-30 21:00:00   119.654649\n",
              " 2014-12-30 22:00:00   157.086304\n",
              " 2014-12-30 23:00:00    83.236742\n",
              " \n",
              " [7688 rows x 1 columns],\n",
              " 'House3':                                1\n",
              " 0                               \n",
              " 2014-01-01 00:00:00   418.419463\n",
              " 2014-01-01 01:00:00   248.500000\n",
              " 2014-01-01 02:00:00   195.945000\n",
              " 2014-01-01 03:00:00   235.060100\n",
              " 2014-01-01 04:00:00   200.060000\n",
              " ...                          ...\n",
              " 2014-12-30 19:00:00  1034.671103\n",
              " 2014-12-30 20:00:00  1031.949153\n",
              " 2014-12-30 21:00:00  1179.849906\n",
              " 2014-12-30 22:00:00   935.519849\n",
              " 2014-12-30 23:00:00   651.735350\n",
              " \n",
              " [8736 rows x 1 columns],\n",
              " 'House4':                               1\n",
              " 0                              \n",
              " 2014-01-01 00:00:00  383.617496\n",
              " 2014-01-01 01:00:00  245.490662\n",
              " 2014-01-01 02:00:00  228.549153\n",
              " 2014-01-01 03:00:00  333.189329\n",
              " 2014-01-01 04:00:00  347.561102\n",
              " ...                         ...\n",
              " 2014-12-30 19:00:00  493.303263\n",
              " 2014-12-30 20:00:00  402.149805\n",
              " 2014-12-30 21:00:00  414.181818\n",
              " 2014-12-30 22:00:00  285.408046\n",
              " 2014-12-30 23:00:00  303.501923\n",
              " \n",
              " [8736 rows x 1 columns],\n",
              " 'House11':                                1\n",
              " 0                               \n",
              " 2014-06-03 11:00:00  1186.776256\n",
              " 2014-06-03 12:00:00  1474.351171\n",
              " 2014-06-03 13:00:00  1503.198664\n",
              " 2014-06-03 14:00:00  1127.265442\n",
              " 2014-06-03 15:00:00   730.155000\n",
              " ...                          ...\n",
              " 2014-12-30 19:00:00   178.684008\n",
              " 2014-12-30 20:00:00   458.040777\n",
              " 2014-12-30 21:00:00  1024.073501\n",
              " 2014-12-30 22:00:00   237.409709\n",
              " 2014-12-30 23:00:00   332.056202\n",
              " \n",
              " [5053 rows x 1 columns]}"
            ]
          },
          "execution_count": 22,
          "metadata": {},
          "output_type": "execute_result"
        }
      ],
      "source": [
        "path = './datasets/part3/'\n",
        "\n",
        "house_idx = [1, 2, 3, 4, 11]\n",
        "\n",
        "filenames = [f\"House{i}.csv\" for i in house_idx]\n",
        "\n",
        "consumptions = {}\n",
        "for house in filenames:\n",
        "    consumptions[house[:-4]] = pd.read_csv(os.path.join(path, house), header=None, index_col=0)\n",
        "    consumptions[house[:-4]].index = pd.to_datetime(consumptions[house[:-4]].index, format=\"%Y-%m-%d %H:%M:%S\")\n",
        "\n",
        "consumptions"
      ]
    },
    {
      "cell_type": "markdown",
      "metadata": {
        "id": "c39xA1v37OmR"
      },
      "source": [
        "Далее смоделируем событие замены счетчика. Для этого каждый временной ряд разделим на две части: \"Head\" (до 1 октября) и \"Tail\" (после 1 октября). После чего выберем случайным образом 2 временных ряда (например, House1 и House11) и поменяем местами их \"Tail\" части."
      ]
    },
    {
      "cell_type": "code",
      "execution_count": 23,
      "metadata": {
        "id": "pTs8yUyThUtk"
      },
      "outputs": [
        {
          "data": {
            "text/plain": [
              "{'H_1':                                1\n",
              " 0                               \n",
              " 2014-01-01 00:00:00  1422.005576\n",
              " 2014-01-01 01:00:00  1707.948669\n",
              " 2014-01-01 02:00:00  1442.025253\n",
              " 2014-01-01 03:00:00  1374.657191\n",
              " 2014-01-01 04:00:00  1757.285235\n",
              " ...                          ...\n",
              " 2014-09-30 19:00:00   183.115942\n",
              " 2014-09-30 20:00:00   235.133945\n",
              " 2014-09-30 21:00:00   181.379747\n",
              " 2014-09-30 22:00:00   200.409009\n",
              " 2014-09-30 23:00:00   185.529081\n",
              " \n",
              " [6552 rows x 1 columns],\n",
              " 'H_2':                                1\n",
              " 0                               \n",
              " 2014-02-13 16:00:00   783.505155\n",
              " 2014-02-13 17:00:00          NaN\n",
              " 2014-02-13 18:00:00          NaN\n",
              " 2014-02-13 19:00:00   241.000000\n",
              " 2014-02-13 20:00:00  1102.175000\n",
              " ...                          ...\n",
              " 2014-09-30 19:00:00   592.727924\n",
              " 2014-09-30 20:00:00   344.297619\n",
              " 2014-09-30 21:00:00   376.567033\n",
              " 2014-09-30 22:00:00  1043.671024\n",
              " 2014-09-30 23:00:00   616.574561\n",
              " \n",
              " [5504 rows x 1 columns],\n",
              " 'H_3':                               1\n",
              " 0                              \n",
              " 2014-01-01 00:00:00  418.419463\n",
              " 2014-01-01 01:00:00  248.500000\n",
              " 2014-01-01 02:00:00  195.945000\n",
              " 2014-01-01 03:00:00  235.060100\n",
              " 2014-01-01 04:00:00  200.060000\n",
              " ...                         ...\n",
              " 2014-09-30 19:00:00  487.556582\n",
              " 2014-09-30 20:00:00  505.142857\n",
              " 2014-09-30 21:00:00  395.901869\n",
              " 2014-09-30 22:00:00  369.102500\n",
              " 2014-09-30 23:00:00  368.625277\n",
              " \n",
              " [6552 rows x 1 columns],\n",
              " 'H_4':                               1\n",
              " 0                              \n",
              " 2014-01-01 00:00:00  383.617496\n",
              " 2014-01-01 01:00:00  245.490662\n",
              " 2014-01-01 02:00:00  228.549153\n",
              " 2014-01-01 03:00:00  333.189329\n",
              " 2014-01-01 04:00:00  347.561102\n",
              " ...                         ...\n",
              " 2014-09-30 19:00:00  509.258621\n",
              " 2014-09-30 20:00:00  464.645270\n",
              " 2014-09-30 21:00:00  392.035917\n",
              " 2014-09-30 22:00:00  408.175399\n",
              " 2014-09-30 23:00:00  437.160183\n",
              " \n",
              " [6552 rows x 1 columns],\n",
              " 'H_11':                                1\n",
              " 0                               \n",
              " 2014-06-03 11:00:00  1186.776256\n",
              " 2014-06-03 12:00:00  1474.351171\n",
              " 2014-06-03 13:00:00  1503.198664\n",
              " 2014-06-03 14:00:00  1127.265442\n",
              " 2014-06-03 15:00:00   730.155000\n",
              " ...                          ...\n",
              " 2014-09-30 19:00:00    63.602694\n",
              " 2014-09-30 20:00:00   137.961474\n",
              " 2014-09-30 21:00:00   184.636667\n",
              " 2014-09-30 22:00:00   170.444816\n",
              " 2014-09-30 23:00:00   190.050699\n",
              " \n",
              " [2869 rows x 1 columns]}"
            ]
          },
          "execution_count": 23,
          "metadata": {},
          "output_type": "execute_result"
        }
      ],
      "source": [
        "cutoff = pd.to_datetime('2014-10-01')\n",
        "heads, tails = heads_tails(consumptions, cutoff, house_idx)\n",
        "\n",
        "# Swap Heads and Tails of 1 and 11\n",
        "swap1, swap2 = 1, 11\n",
        "consumptions[f'House{swap1}'] = pd.concat([heads[f'H_{swap1}'], tails[f'T_{swap2}']])\n",
        "consumptions[f'House{swap2}'] = pd.concat([heads[f'H_{swap2}'], tails[f'T_{swap1}']])\n",
        "\n",
        "heads, tails = heads_tails(consumptions, cutoff, house_idx)\n",
        "\n",
        "heads"
      ]
    },
    {
      "cell_type": "markdown",
      "metadata": {
        "id": "4z2ubhAE9sI4"
      },
      "source": [
        "Визуализируйте исходные временные ряды и параллельную оси OY прямую, которая делит временные ряды на \"Head\" и \"Tail\" части."
      ]
    },
    {
      "cell_type": "code",
      "execution_count": 24,
      "metadata": {
        "id": "oTFAQGrw8hJe"
      },
      "outputs": [],
      "source": [
        "plot_consumptions_ts(consumptions, cutoff, house_idx)"
      ]
    },
    {
      "cell_type": "markdown",
      "metadata": {
        "id": "kRNJ11pZB8U2"
      },
      "source": [
        "Чтобы найти переставленную пару временных рядов, выполним следующее. Сначала составим временные ряды $H_i$ из всевозможных комбинаций \"Head\" и \"Tail\" частей исходных временных рядов $T_K$, где $1 \\leq i \\leq |T|^2$, $1 \\leq K \\leq |T|$. В нашем случае, $|T| = 5$.  Далее среди них найдем такую пару временных рядов $(H_i, H_j)$, которая имеет минимальную оценку $swap\\_score$. Минимальная оценка $swap\\_score$ для пары рядов $(H_i, H_j)$ вычисляется следующим образом:\n",
        "\n",
        "\\begin{equation}\n",
        "swap\\_score(i,j) = \\frac{\\min{(Head_{H_i} \\bowtie Tail_{H_j})}}{\\min{(Head_{H_i} \\bowtie Tail_{H_i})}+eps},\n",
        "\\end{equation}\n",
        "\n",
        "где $\\bowtie$ – операция нахождения матричного профиля между двумя временными рядами. Матричный профиль между двумя временными рядами содержит расстояния между всеми подпоследовательностями первого временного ряда и их ближайшими соседями, которые являются подпоследовательностями второго временного ряда.\n",
        "\n",
        "Добавьте в функцию `compute_mp()` в модуле *mp.py* поддежку вычисления матричного профиля между двумя различными временными рядами и найдите пару временных рядов $(H_i, H_j)$, которая имеет минимальную оценку $swap\\_score$ среди всех пар."
      ]
    },
    {
      "cell_type": "code",
      "execution_count": 25,
      "metadata": {
        "id": "hkKNM3pPA026"
      },
      "outputs": [
        {
          "name": "stderr",
          "output_type": "stream",
          "text": [
            "c:\\ProgramData\\miniconda3\\Lib\\site-packages\\stumpy\\core.py:2257: RuntimeWarning:\n",
            "\n",
            "divide by zero encountered in divide\n",
            "\n",
            "c:\\ProgramData\\miniconda3\\Lib\\site-packages\\stumpy\\core.py:3703: UserWarning:\n",
            "\n",
            "Arrays T_A, T_B are not equal, which implies an AB-join. `ignore_trivial` has been automatically set to `False`.\n",
            "\n"
          ]
        },
        {
          "data": {
            "text/plain": [
              "{'i': 11,\n",
              " 'j': 1,\n",
              " 'mp_j': {'mp': mparray([6.645445015139523, 6.646133462166893, 6.518721078147909, ...,\n",
              "           5.347154576581177, 5.373268489734636, 5.2849834262799105],\n",
              "          dtype=object),\n",
              "  'mpi': mparray([156, 157, 158, ..., 359, 360, 361], dtype=object),\n",
              "  'm': 96,\n",
              "  'excl_zone': None,\n",
              "  'data': {'ts1': array([1186.77625571, 1474.35117057, 1503.19866444, ...,  184.63666667,\n",
              "           170.44481605,  190.0506993 ]),\n",
              "   'ts2': array([ 178.09817352,  173.54421769,  127.82004556, ..., 1024.07350097,\n",
              "           237.40970874,  332.05620155])}}}"
            ]
          },
          "execution_count": 25,
          "metadata": {},
          "output_type": "execute_result"
        }
      ],
      "source": [
        "m = 24 * 4\n",
        "\n",
        "min_score = meter_swapping_detection(heads, tails, house_idx, m)\n",
        "\n",
        "min_score"
      ]
    },
    {
      "cell_type": "code",
      "execution_count": 26,
      "metadata": {},
      "outputs": [
        {
          "name": "stdout",
          "output_type": "stream",
          "text": [
            "Time series with minimum score is (H_11, T_1).\n"
          ]
        }
      ],
      "source": [
        "min_i, min_j, mp_j = min_score['i'], min_score['j'], min_score['mp_j']\n",
        "print(f'Time series with minimum score is (H_{min_i}, T_{min_j}).')"
      ]
    },
    {
      "cell_type": "markdown",
      "metadata": {
        "id": "xDckzf0fRhoo"
      },
      "source": [
        "![equation.png](data:image/png;base64,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)\n",
        "Проанализируйте и изложите содержательный смысл полученных результатов."
      ]
    },
    {
      "cell_type": "markdown",
      "metadata": {
        "id": "4Exe26GWRlVQ"
      },
      "source": [
        "Полученный результат \"Time series with minimum score is (H_11, T_1)\" указывает на то, что пара временных рядов (H_11, T_1) имеет минимальный `swap_score`. Давайте разберем, что это означает и каков содержательный смысл этого результата.\n",
        "\n",
        "### Содержательный смысл:\n",
        "\n",
        "**Минимальный `swap_score`**:\n",
        "   - `swap_score` — это метрика, которая сравнивает матричный профиль между двумя временными рядами. В данном случае, `swap_score` для пары (H_11, T_1) является минимальным среди всех возможных пар.\n",
        "   - Чем меньше `swap_score`, тем более похожи временные ряды друг на друга.\n",
        "\n",
        "**Пара (H_11, T_1)**:\n",
        "   - `H_11` — это временной ряд для \"Head\" дома с индексом 11.\n",
        "   - `T_1` — это временной ряд для \"Tail\" дома с индексом 1."
      ]
    },
    {
      "cell_type": "markdown",
      "metadata": {},
      "source": []
    }
  ],
  "metadata": {
    "colab": {
      "provenance": [],
      "toc_visible": true
    },
    "kernelspec": {
      "display_name": "Python 3",
      "name": "python3"
    },
    "language_info": {
      "codemirror_mode": {
        "name": "ipython",
        "version": 3
      },
      "file_extension": ".py",
      "mimetype": "text/x-python",
      "name": "python",
      "nbconvert_exporter": "python",
      "pygments_lexer": "ipython3",
      "version": "3.12.4"
    }
  },
  "nbformat": 4,
  "nbformat_minor": 0
}
